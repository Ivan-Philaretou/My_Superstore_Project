{
 "cells": [
  {
   "cell_type": "markdown",
   "metadata": {},
   "source": [
    "# Dash Planning and Design"
   ]
  },
  {
   "cell_type": "markdown",
   "metadata": {},
   "source": [
    "# Imports"
   ]
  },
  {
   "cell_type": "code",
   "execution_count": 1,
   "metadata": {},
   "outputs": [],
   "source": [
    "import pandas as pd\n",
    "import numpy as np\n",
    "import plotly.express as px\n",
    "import seaborn as sns\n",
    "import matplotlib.pyplot as plt\n",
    "%matplotlib inline"
   ]
  },
  {
   "cell_type": "markdown",
   "metadata": {},
   "source": [
    "# Load Data"
   ]
  },
  {
   "cell_type": "markdown",
   "metadata": {},
   "source": [
    "Had to load it in parts as having it as 1 file was too big for GitHub."
   ]
  },
  {
   "cell_type": "code",
   "execution_count": 2,
   "metadata": {},
   "outputs": [],
   "source": [
    "df_1 = pd.read_csv('CSV_Datasets/4_Superstore_Modified_v2/1_Superstore_Datamart_2015_Modified_v2.csv')\n",
    "df_2 = pd.read_csv('CSV_Datasets/4_Superstore_Modified_v2/2_Superstore_Datamart_2015_Modified_v2.csv')\n",
    "df_3 = pd.read_csv('CSV_Datasets/4_Superstore_Modified_v2/3_Superstore_Datamart_2015_Modified_v2.csv')"
   ]
  },
  {
   "cell_type": "markdown",
   "metadata": {},
   "source": [
    "# Concatenate the Dataset Parts Together"
   ]
  },
  {
   "cell_type": "code",
   "execution_count": 3,
   "metadata": {},
   "outputs": [],
   "source": [
    "# Did it this way to be able to easily reset the dataframe if needed.\n",
    "full_df = pd.concat([df_1,df_2,df_3])\n",
    "df = full_df"
   ]
  },
  {
   "cell_type": "markdown",
   "metadata": {},
   "source": [
    "# Handy Functions"
   ]
  },
  {
   "cell_type": "code",
   "execution_count": 4,
   "metadata": {},
   "outputs": [],
   "source": [
    "def display_all(df):     # For any Dataframe df\n",
    "   with pd.option_context('display.max_rows',10000): # Change number of rows accordingly\n",
    "      with pd.option_context('display.max_columns',100): # Change number of columns accordingly\n",
    "          display(df)"
   ]
  },
  {
   "cell_type": "code",
   "execution_count": 5,
   "metadata": {},
   "outputs": [],
   "source": [
    "def Output_full_display(aggregate_data):\n",
    "    formatted_values = aggregate_data.apply(lambda x: \"{:,.2f}\".format(x))\n",
    "    return formatted_values"
   ]
  },
  {
   "cell_type": "markdown",
   "metadata": {},
   "source": [
    "# Checking the data"
   ]
  },
  {
   "cell_type": "code",
   "execution_count": 6,
   "metadata": {},
   "outputs": [
    {
     "data": {
      "text/html": [
       "<div>\n",
       "<style scoped>\n",
       "    .dataframe tbody tr th:only-of-type {\n",
       "        vertical-align: middle;\n",
       "    }\n",
       "\n",
       "    .dataframe tbody tr th {\n",
       "        vertical-align: top;\n",
       "    }\n",
       "\n",
       "    .dataframe thead th {\n",
       "        text-align: right;\n",
       "    }\n",
       "</style>\n",
       "<table border=\"1\" class=\"dataframe\">\n",
       "  <thead>\n",
       "    <tr style=\"text-align: right;\">\n",
       "      <th></th>\n",
       "      <th>0</th>\n",
       "      <th>1</th>\n",
       "      <th>2</th>\n",
       "      <th>3</th>\n",
       "      <th>4</th>\n",
       "    </tr>\n",
       "  </thead>\n",
       "  <tbody>\n",
       "    <tr>\n",
       "      <th>RETAIL_ID</th>\n",
       "      <td>1</td>\n",
       "      <td>2</td>\n",
       "      <td>3</td>\n",
       "      <td>4</td>\n",
       "      <td>5</td>\n",
       "    </tr>\n",
       "    <tr>\n",
       "      <th>ORDER_ID</th>\n",
       "      <td>1</td>\n",
       "      <td>2</td>\n",
       "      <td>3</td>\n",
       "      <td>4</td>\n",
       "      <td>5</td>\n",
       "    </tr>\n",
       "    <tr>\n",
       "      <th>ORDER_KEYS</th>\n",
       "      <td>1</td>\n",
       "      <td>2</td>\n",
       "      <td>3</td>\n",
       "      <td>4</td>\n",
       "      <td>5</td>\n",
       "    </tr>\n",
       "    <tr>\n",
       "      <th>ORDER_DATE</th>\n",
       "      <td>01/01/2010</td>\n",
       "      <td>01/01/2010</td>\n",
       "      <td>01/01/2010</td>\n",
       "      <td>01/01/2010</td>\n",
       "      <td>01/01/2010</td>\n",
       "    </tr>\n",
       "    <tr>\n",
       "      <th>ORDER_MONTH_NAME</th>\n",
       "      <td>January</td>\n",
       "      <td>January</td>\n",
       "      <td>January</td>\n",
       "      <td>January</td>\n",
       "      <td>January</td>\n",
       "    </tr>\n",
       "    <tr>\n",
       "      <th>ORDER_YEAR</th>\n",
       "      <td>2010</td>\n",
       "      <td>2010</td>\n",
       "      <td>2010</td>\n",
       "      <td>2010</td>\n",
       "      <td>2010</td>\n",
       "    </tr>\n",
       "    <tr>\n",
       "      <th>SHIP_MODE</th>\n",
       "      <td>Standard Class</td>\n",
       "      <td>Second Class</td>\n",
       "      <td>First Class</td>\n",
       "      <td>First Class</td>\n",
       "      <td>First Class</td>\n",
       "    </tr>\n",
       "    <tr>\n",
       "      <th>SHIP_DATE</th>\n",
       "      <td>08/01/2010</td>\n",
       "      <td>04/01/2010</td>\n",
       "      <td>02/01/2010</td>\n",
       "      <td>02/01/2010</td>\n",
       "      <td>02/01/2010</td>\n",
       "    </tr>\n",
       "    <tr>\n",
       "      <th>SHIP_MONTH_NAME</th>\n",
       "      <td>January</td>\n",
       "      <td>January</td>\n",
       "      <td>January</td>\n",
       "      <td>January</td>\n",
       "      <td>January</td>\n",
       "    </tr>\n",
       "    <tr>\n",
       "      <th>SHIP_YEAR</th>\n",
       "      <td>2010</td>\n",
       "      <td>2010</td>\n",
       "      <td>2010</td>\n",
       "      <td>2010</td>\n",
       "      <td>2010</td>\n",
       "    </tr>\n",
       "    <tr>\n",
       "      <th>CUSTOMER_ID</th>\n",
       "      <td>9310</td>\n",
       "      <td>108</td>\n",
       "      <td>8690</td>\n",
       "      <td>2278</td>\n",
       "      <td>9006</td>\n",
       "    </tr>\n",
       "    <tr>\n",
       "      <th>FIRST_NAME</th>\n",
       "      <td>Freddie</td>\n",
       "      <td>Brian</td>\n",
       "      <td>William</td>\n",
       "      <td>Grant</td>\n",
       "      <td>Bryson</td>\n",
       "    </tr>\n",
       "    <tr>\n",
       "      <th>LAST_NAME</th>\n",
       "      <td>Elliott</td>\n",
       "      <td>DeCherney</td>\n",
       "      <td>Owen</td>\n",
       "      <td>Spencer</td>\n",
       "      <td>Jackson</td>\n",
       "    </tr>\n",
       "    <tr>\n",
       "      <th>FULL_NAME</th>\n",
       "      <td>Freddie Elliott</td>\n",
       "      <td>Brian DeCherney</td>\n",
       "      <td>William Owen</td>\n",
       "      <td>Grant Spencer</td>\n",
       "      <td>Bryson Jackson</td>\n",
       "    </tr>\n",
       "    <tr>\n",
       "      <th>POSTAL_ID</th>\n",
       "      <td>70</td>\n",
       "      <td>556</td>\n",
       "      <td>573</td>\n",
       "      <td>42</td>\n",
       "      <td>419</td>\n",
       "    </tr>\n",
       "    <tr>\n",
       "      <th>POSTAL_CODE</th>\n",
       "      <td>14304</td>\n",
       "      <td>92592</td>\n",
       "      <td>93534</td>\n",
       "      <td>7109</td>\n",
       "      <td>76106</td>\n",
       "    </tr>\n",
       "    <tr>\n",
       "      <th>CITY</th>\n",
       "      <td>Niagara Falls</td>\n",
       "      <td>Temecula</td>\n",
       "      <td>Lancaster</td>\n",
       "      <td>Belleville</td>\n",
       "      <td>Fort Worth</td>\n",
       "    </tr>\n",
       "    <tr>\n",
       "      <th>STATE</th>\n",
       "      <td>New York</td>\n",
       "      <td>California</td>\n",
       "      <td>California</td>\n",
       "      <td>New Jersey</td>\n",
       "      <td>Texas</td>\n",
       "    </tr>\n",
       "    <tr>\n",
       "      <th>REGION</th>\n",
       "      <td>East</td>\n",
       "      <td>West</td>\n",
       "      <td>West</td>\n",
       "      <td>East</td>\n",
       "      <td>Central</td>\n",
       "    </tr>\n",
       "    <tr>\n",
       "      <th>COUNTRY</th>\n",
       "      <td>United States</td>\n",
       "      <td>United States</td>\n",
       "      <td>United States</td>\n",
       "      <td>United States</td>\n",
       "      <td>United States</td>\n",
       "    </tr>\n",
       "    <tr>\n",
       "      <th>PRODUCT_ID</th>\n",
       "      <td>887</td>\n",
       "      <td>582</td>\n",
       "      <td>543</td>\n",
       "      <td>1821</td>\n",
       "      <td>1821</td>\n",
       "    </tr>\n",
       "    <tr>\n",
       "      <th>CATEGORY</th>\n",
       "      <td>Office Supplies</td>\n",
       "      <td>Office Supplies</td>\n",
       "      <td>Office Supplies</td>\n",
       "      <td>Technology</td>\n",
       "      <td>Technology</td>\n",
       "    </tr>\n",
       "    <tr>\n",
       "      <th>SUB_CATEGORY</th>\n",
       "      <td>Envelopes</td>\n",
       "      <td>Art</td>\n",
       "      <td>Art</td>\n",
       "      <td>Phones</td>\n",
       "      <td>Phones</td>\n",
       "    </tr>\n",
       "    <tr>\n",
       "      <th>PRODUCT_NAME</th>\n",
       "      <td>Wausau Papers Astrobrights Colored Envelopes</td>\n",
       "      <td>Newell 336</td>\n",
       "      <td>Hunt BOSTON Model 1606 High-Volume Electric Pe...</td>\n",
       "      <td>Samsung Galaxy S4 Active</td>\n",
       "      <td>Samsung Galaxy S4 Active</td>\n",
       "    </tr>\n",
       "    <tr>\n",
       "      <th>BRAND_NAME</th>\n",
       "      <td>Wausau</td>\n",
       "      <td>Newell</td>\n",
       "      <td>Hunt</td>\n",
       "      <td>Samsung</td>\n",
       "      <td>Samsung</td>\n",
       "    </tr>\n",
       "    <tr>\n",
       "      <th>PRODUCT_PRICE_ID</th>\n",
       "      <td>887</td>\n",
       "      <td>582</td>\n",
       "      <td>543</td>\n",
       "      <td>1821</td>\n",
       "      <td>1821</td>\n",
       "    </tr>\n",
       "    <tr>\n",
       "      <th>PRODUCT_UNIT_PRICE</th>\n",
       "      <td>5.9</td>\n",
       "      <td>4.2</td>\n",
       "      <td>166.95</td>\n",
       "      <td>499.99</td>\n",
       "      <td>499.99</td>\n",
       "    </tr>\n",
       "    <tr>\n",
       "      <th>PRODUCT_COST_PRICE</th>\n",
       "      <td>3.37</td>\n",
       "      <td>3.38</td>\n",
       "      <td>153.04</td>\n",
       "      <td>369.99</td>\n",
       "      <td>369.99</td>\n",
       "    </tr>\n",
       "    <tr>\n",
       "      <th>PRODUCT_DISCOUNT_PERCENTAGE</th>\n",
       "      <td>0.02</td>\n",
       "      <td>0.02</td>\n",
       "      <td>0.0</td>\n",
       "      <td>0.02</td>\n",
       "      <td>0.02</td>\n",
       "    </tr>\n",
       "    <tr>\n",
       "      <th>PRODUCT_DISCOUNT_AMOUNT</th>\n",
       "      <td>0.118</td>\n",
       "      <td>0.084</td>\n",
       "      <td>0.0</td>\n",
       "      <td>9.9998</td>\n",
       "      <td>9.9998</td>\n",
       "    </tr>\n",
       "    <tr>\n",
       "      <th>PRODUCT_DISCOUNTED_UNIT_PRICE</th>\n",
       "      <td>5.782</td>\n",
       "      <td>4.116</td>\n",
       "      <td>166.95</td>\n",
       "      <td>489.9902</td>\n",
       "      <td>489.9902</td>\n",
       "    </tr>\n",
       "    <tr>\n",
       "      <th>QUANTITY</th>\n",
       "      <td>8</td>\n",
       "      <td>7</td>\n",
       "      <td>6</td>\n",
       "      <td>9</td>\n",
       "      <td>9</td>\n",
       "    </tr>\n",
       "    <tr>\n",
       "      <th>TOTAL_DISCOUNT_AMOUNT</th>\n",
       "      <td>0.944</td>\n",
       "      <td>0.588</td>\n",
       "      <td>0.0</td>\n",
       "      <td>89.9982</td>\n",
       "      <td>89.9982</td>\n",
       "    </tr>\n",
       "    <tr>\n",
       "      <th>TOTAL_UNIT_AMOUNT</th>\n",
       "      <td>47.2</td>\n",
       "      <td>29.4</td>\n",
       "      <td>1001.7</td>\n",
       "      <td>4499.91</td>\n",
       "      <td>4499.91</td>\n",
       "    </tr>\n",
       "    <tr>\n",
       "      <th>GROSS_PROFIT_UNIT_AMOUNT</th>\n",
       "      <td>20.24</td>\n",
       "      <td>5.74</td>\n",
       "      <td>83.46</td>\n",
       "      <td>1170.0</td>\n",
       "      <td>1170.0</td>\n",
       "    </tr>\n",
       "    <tr>\n",
       "      <th>TOTAL_DISCOUNTED_UNIT_AMOUNT</th>\n",
       "      <td>46.256</td>\n",
       "      <td>28.812</td>\n",
       "      <td>1001.7</td>\n",
       "      <td>4409.9118</td>\n",
       "      <td>4409.9118</td>\n",
       "    </tr>\n",
       "    <tr>\n",
       "      <th>GROSS_PROFIT_DISCOUNTED_UNIT_AMOUNT</th>\n",
       "      <td>19.296</td>\n",
       "      <td>5.152</td>\n",
       "      <td>83.46</td>\n",
       "      <td>1080.0018</td>\n",
       "      <td>1080.0018</td>\n",
       "    </tr>\n",
       "    <tr>\n",
       "      <th>IS_DISCOUNTED</th>\n",
       "      <td>1</td>\n",
       "      <td>1</td>\n",
       "      <td>0</td>\n",
       "      <td>1</td>\n",
       "      <td>1</td>\n",
       "    </tr>\n",
       "  </tbody>\n",
       "</table>\n",
       "</div>"
      ],
      "text/plain": [
       "                                                                                0  \\\n",
       "RETAIL_ID                                                                       1   \n",
       "ORDER_ID                                                                        1   \n",
       "ORDER_KEYS                                                                      1   \n",
       "ORDER_DATE                                                             01/01/2010   \n",
       "ORDER_MONTH_NAME                                                          January   \n",
       "ORDER_YEAR                                                                   2010   \n",
       "SHIP_MODE                                                          Standard Class   \n",
       "SHIP_DATE                                                              08/01/2010   \n",
       "SHIP_MONTH_NAME                                                           January   \n",
       "SHIP_YEAR                                                                    2010   \n",
       "CUSTOMER_ID                                                                  9310   \n",
       "FIRST_NAME                                                                Freddie   \n",
       "LAST_NAME                                                                 Elliott   \n",
       "FULL_NAME                                                         Freddie Elliott   \n",
       "POSTAL_ID                                                                      70   \n",
       "POSTAL_CODE                                                                 14304   \n",
       "CITY                                                                Niagara Falls   \n",
       "STATE                                                                    New York   \n",
       "REGION                                                                       East   \n",
       "COUNTRY                                                             United States   \n",
       "PRODUCT_ID                                                                    887   \n",
       "CATEGORY                                                          Office Supplies   \n",
       "SUB_CATEGORY                                                            Envelopes   \n",
       "PRODUCT_NAME                         Wausau Papers Astrobrights Colored Envelopes   \n",
       "BRAND_NAME                                                                 Wausau   \n",
       "PRODUCT_PRICE_ID                                                              887   \n",
       "PRODUCT_UNIT_PRICE                                                            5.9   \n",
       "PRODUCT_COST_PRICE                                                           3.37   \n",
       "PRODUCT_DISCOUNT_PERCENTAGE                                                  0.02   \n",
       "PRODUCT_DISCOUNT_AMOUNT                                                     0.118   \n",
       "PRODUCT_DISCOUNTED_UNIT_PRICE                                               5.782   \n",
       "QUANTITY                                                                        8   \n",
       "TOTAL_DISCOUNT_AMOUNT                                                       0.944   \n",
       "TOTAL_UNIT_AMOUNT                                                            47.2   \n",
       "GROSS_PROFIT_UNIT_AMOUNT                                                    20.24   \n",
       "TOTAL_DISCOUNTED_UNIT_AMOUNT                                               46.256   \n",
       "GROSS_PROFIT_DISCOUNTED_UNIT_AMOUNT                                        19.296   \n",
       "IS_DISCOUNTED                                                                   1   \n",
       "\n",
       "                                                   1  \\\n",
       "RETAIL_ID                                          2   \n",
       "ORDER_ID                                           2   \n",
       "ORDER_KEYS                                         2   \n",
       "ORDER_DATE                                01/01/2010   \n",
       "ORDER_MONTH_NAME                             January   \n",
       "ORDER_YEAR                                      2010   \n",
       "SHIP_MODE                               Second Class   \n",
       "SHIP_DATE                                 04/01/2010   \n",
       "SHIP_MONTH_NAME                              January   \n",
       "SHIP_YEAR                                       2010   \n",
       "CUSTOMER_ID                                      108   \n",
       "FIRST_NAME                                     Brian   \n",
       "LAST_NAME                                  DeCherney   \n",
       "FULL_NAME                            Brian DeCherney   \n",
       "POSTAL_ID                                        556   \n",
       "POSTAL_CODE                                    92592   \n",
       "CITY                                        Temecula   \n",
       "STATE                                     California   \n",
       "REGION                                          West   \n",
       "COUNTRY                                United States   \n",
       "PRODUCT_ID                                       582   \n",
       "CATEGORY                             Office Supplies   \n",
       "SUB_CATEGORY                                     Art   \n",
       "PRODUCT_NAME                              Newell 336   \n",
       "BRAND_NAME                                    Newell   \n",
       "PRODUCT_PRICE_ID                                 582   \n",
       "PRODUCT_UNIT_PRICE                               4.2   \n",
       "PRODUCT_COST_PRICE                              3.38   \n",
       "PRODUCT_DISCOUNT_PERCENTAGE                     0.02   \n",
       "PRODUCT_DISCOUNT_AMOUNT                        0.084   \n",
       "PRODUCT_DISCOUNTED_UNIT_PRICE                  4.116   \n",
       "QUANTITY                                           7   \n",
       "TOTAL_DISCOUNT_AMOUNT                          0.588   \n",
       "TOTAL_UNIT_AMOUNT                               29.4   \n",
       "GROSS_PROFIT_UNIT_AMOUNT                        5.74   \n",
       "TOTAL_DISCOUNTED_UNIT_AMOUNT                  28.812   \n",
       "GROSS_PROFIT_DISCOUNTED_UNIT_AMOUNT            5.152   \n",
       "IS_DISCOUNTED                                      1   \n",
       "\n",
       "                                                                                     2  \\\n",
       "RETAIL_ID                                                                            3   \n",
       "ORDER_ID                                                                             3   \n",
       "ORDER_KEYS                                                                           3   \n",
       "ORDER_DATE                                                                  01/01/2010   \n",
       "ORDER_MONTH_NAME                                                               January   \n",
       "ORDER_YEAR                                                                        2010   \n",
       "SHIP_MODE                                                                  First Class   \n",
       "SHIP_DATE                                                                   02/01/2010   \n",
       "SHIP_MONTH_NAME                                                                January   \n",
       "SHIP_YEAR                                                                         2010   \n",
       "CUSTOMER_ID                                                                       8690   \n",
       "FIRST_NAME                                                                     William   \n",
       "LAST_NAME                                                                         Owen   \n",
       "FULL_NAME                                                                 William Owen   \n",
       "POSTAL_ID                                                                          573   \n",
       "POSTAL_CODE                                                                      93534   \n",
       "CITY                                                                         Lancaster   \n",
       "STATE                                                                       California   \n",
       "REGION                                                                            West   \n",
       "COUNTRY                                                                  United States   \n",
       "PRODUCT_ID                                                                         543   \n",
       "CATEGORY                                                               Office Supplies   \n",
       "SUB_CATEGORY                                                                       Art   \n",
       "PRODUCT_NAME                         Hunt BOSTON Model 1606 High-Volume Electric Pe...   \n",
       "BRAND_NAME                                                                        Hunt   \n",
       "PRODUCT_PRICE_ID                                                                   543   \n",
       "PRODUCT_UNIT_PRICE                                                              166.95   \n",
       "PRODUCT_COST_PRICE                                                              153.04   \n",
       "PRODUCT_DISCOUNT_PERCENTAGE                                                        0.0   \n",
       "PRODUCT_DISCOUNT_AMOUNT                                                            0.0   \n",
       "PRODUCT_DISCOUNTED_UNIT_PRICE                                                   166.95   \n",
       "QUANTITY                                                                             6   \n",
       "TOTAL_DISCOUNT_AMOUNT                                                              0.0   \n",
       "TOTAL_UNIT_AMOUNT                                                               1001.7   \n",
       "GROSS_PROFIT_UNIT_AMOUNT                                                         83.46   \n",
       "TOTAL_DISCOUNTED_UNIT_AMOUNT                                                    1001.7   \n",
       "GROSS_PROFIT_DISCOUNTED_UNIT_AMOUNT                                              83.46   \n",
       "IS_DISCOUNTED                                                                        0   \n",
       "\n",
       "                                                            3  \\\n",
       "RETAIL_ID                                                   4   \n",
       "ORDER_ID                                                    4   \n",
       "ORDER_KEYS                                                  4   \n",
       "ORDER_DATE                                         01/01/2010   \n",
       "ORDER_MONTH_NAME                                      January   \n",
       "ORDER_YEAR                                               2010   \n",
       "SHIP_MODE                                         First Class   \n",
       "SHIP_DATE                                          02/01/2010   \n",
       "SHIP_MONTH_NAME                                       January   \n",
       "SHIP_YEAR                                                2010   \n",
       "CUSTOMER_ID                                              2278   \n",
       "FIRST_NAME                                              Grant   \n",
       "LAST_NAME                                             Spencer   \n",
       "FULL_NAME                                       Grant Spencer   \n",
       "POSTAL_ID                                                  42   \n",
       "POSTAL_CODE                                              7109   \n",
       "CITY                                               Belleville   \n",
       "STATE                                              New Jersey   \n",
       "REGION                                                   East   \n",
       "COUNTRY                                         United States   \n",
       "PRODUCT_ID                                               1821   \n",
       "CATEGORY                                           Technology   \n",
       "SUB_CATEGORY                                           Phones   \n",
       "PRODUCT_NAME                         Samsung Galaxy S4 Active   \n",
       "BRAND_NAME                                            Samsung   \n",
       "PRODUCT_PRICE_ID                                         1821   \n",
       "PRODUCT_UNIT_PRICE                                     499.99   \n",
       "PRODUCT_COST_PRICE                                     369.99   \n",
       "PRODUCT_DISCOUNT_PERCENTAGE                              0.02   \n",
       "PRODUCT_DISCOUNT_AMOUNT                                9.9998   \n",
       "PRODUCT_DISCOUNTED_UNIT_PRICE                        489.9902   \n",
       "QUANTITY                                                    9   \n",
       "TOTAL_DISCOUNT_AMOUNT                                 89.9982   \n",
       "TOTAL_UNIT_AMOUNT                                     4499.91   \n",
       "GROSS_PROFIT_UNIT_AMOUNT                               1170.0   \n",
       "TOTAL_DISCOUNTED_UNIT_AMOUNT                        4409.9118   \n",
       "GROSS_PROFIT_DISCOUNTED_UNIT_AMOUNT                 1080.0018   \n",
       "IS_DISCOUNTED                                               1   \n",
       "\n",
       "                                                            4  \n",
       "RETAIL_ID                                                   5  \n",
       "ORDER_ID                                                    5  \n",
       "ORDER_KEYS                                                  5  \n",
       "ORDER_DATE                                         01/01/2010  \n",
       "ORDER_MONTH_NAME                                      January  \n",
       "ORDER_YEAR                                               2010  \n",
       "SHIP_MODE                                         First Class  \n",
       "SHIP_DATE                                          02/01/2010  \n",
       "SHIP_MONTH_NAME                                       January  \n",
       "SHIP_YEAR                                                2010  \n",
       "CUSTOMER_ID                                              9006  \n",
       "FIRST_NAME                                             Bryson  \n",
       "LAST_NAME                                             Jackson  \n",
       "FULL_NAME                                      Bryson Jackson  \n",
       "POSTAL_ID                                                 419  \n",
       "POSTAL_CODE                                             76106  \n",
       "CITY                                               Fort Worth  \n",
       "STATE                                                   Texas  \n",
       "REGION                                                Central  \n",
       "COUNTRY                                         United States  \n",
       "PRODUCT_ID                                               1821  \n",
       "CATEGORY                                           Technology  \n",
       "SUB_CATEGORY                                           Phones  \n",
       "PRODUCT_NAME                         Samsung Galaxy S4 Active  \n",
       "BRAND_NAME                                            Samsung  \n",
       "PRODUCT_PRICE_ID                                         1821  \n",
       "PRODUCT_UNIT_PRICE                                     499.99  \n",
       "PRODUCT_COST_PRICE                                     369.99  \n",
       "PRODUCT_DISCOUNT_PERCENTAGE                              0.02  \n",
       "PRODUCT_DISCOUNT_AMOUNT                                9.9998  \n",
       "PRODUCT_DISCOUNTED_UNIT_PRICE                        489.9902  \n",
       "QUANTITY                                                    9  \n",
       "TOTAL_DISCOUNT_AMOUNT                                 89.9982  \n",
       "TOTAL_UNIT_AMOUNT                                     4499.91  \n",
       "GROSS_PROFIT_UNIT_AMOUNT                               1170.0  \n",
       "TOTAL_DISCOUNTED_UNIT_AMOUNT                        4409.9118  \n",
       "GROSS_PROFIT_DISCOUNTED_UNIT_AMOUNT                 1080.0018  \n",
       "IS_DISCOUNTED                                               1  "
      ]
     },
     "execution_count": 6,
     "metadata": {},
     "output_type": "execute_result"
    }
   ],
   "source": [
    "df.head().transpose()"
   ]
  },
  {
   "cell_type": "code",
   "execution_count": 7,
   "metadata": {},
   "outputs": [
    {
     "name": "stdout",
     "output_type": "stream",
     "text": [
      "<class 'pandas.core.frame.DataFrame'>\n",
      "Index: 983892 entries, 0 to 327890\n",
      "Data columns (total 38 columns):\n",
      " #   Column                               Non-Null Count   Dtype  \n",
      "---  ------                               --------------   -----  \n",
      " 0   RETAIL_ID                            983892 non-null  int64  \n",
      " 1   ORDER_ID                             983892 non-null  int64  \n",
      " 2   ORDER_KEYS                           983892 non-null  int64  \n",
      " 3   ORDER_DATE                           983892 non-null  object \n",
      " 4   ORDER_MONTH_NAME                     983892 non-null  object \n",
      " 5   ORDER_YEAR                           983892 non-null  int64  \n",
      " 6   SHIP_MODE                            983892 non-null  object \n",
      " 7   SHIP_DATE                            983892 non-null  object \n",
      " 8   SHIP_MONTH_NAME                      983892 non-null  object \n",
      " 9   SHIP_YEAR                            983892 non-null  int64  \n",
      " 10  CUSTOMER_ID                          983892 non-null  int64  \n",
      " 11  FIRST_NAME                           983892 non-null  object \n",
      " 12  LAST_NAME                            983892 non-null  object \n",
      " 13  FULL_NAME                            983892 non-null  object \n",
      " 14  POSTAL_ID                            983892 non-null  int64  \n",
      " 15  POSTAL_CODE                          983892 non-null  int64  \n",
      " 16  CITY                                 983892 non-null  object \n",
      " 17  STATE                                983892 non-null  object \n",
      " 18  REGION                               983892 non-null  object \n",
      " 19  COUNTRY                              983892 non-null  object \n",
      " 20  PRODUCT_ID                           983892 non-null  int64  \n",
      " 21  CATEGORY                             983892 non-null  object \n",
      " 22  SUB_CATEGORY                         983892 non-null  object \n",
      " 23  PRODUCT_NAME                         983892 non-null  object \n",
      " 24  BRAND_NAME                           983892 non-null  object \n",
      " 25  PRODUCT_PRICE_ID                     983892 non-null  int64  \n",
      " 26  PRODUCT_UNIT_PRICE                   983892 non-null  float64\n",
      " 27  PRODUCT_COST_PRICE                   983892 non-null  float64\n",
      " 28  PRODUCT_DISCOUNT_PERCENTAGE          983892 non-null  float64\n",
      " 29  PRODUCT_DISCOUNT_AMOUNT              983892 non-null  float64\n",
      " 30  PRODUCT_DISCOUNTED_UNIT_PRICE        983892 non-null  float64\n",
      " 31  QUANTITY                             983892 non-null  int64  \n",
      " 32  TOTAL_DISCOUNT_AMOUNT                983892 non-null  float64\n",
      " 33  TOTAL_UNIT_AMOUNT                    983892 non-null  float64\n",
      " 34  GROSS_PROFIT_UNIT_AMOUNT             983892 non-null  float64\n",
      " 35  TOTAL_DISCOUNTED_UNIT_AMOUNT         983892 non-null  float64\n",
      " 36  GROSS_PROFIT_DISCOUNTED_UNIT_AMOUNT  983892 non-null  float64\n",
      " 37  IS_DISCOUNTED                        983892 non-null  int64  \n",
      "dtypes: float64(10), int64(12), object(16)\n",
      "memory usage: 292.8+ MB\n"
     ]
    }
   ],
   "source": [
    "df.info()"
   ]
  },
  {
   "cell_type": "code",
   "execution_count": 8,
   "metadata": {},
   "outputs": [
    {
     "data": {
      "text/plain": [
       "(983892, 38)"
      ]
     },
     "execution_count": 8,
     "metadata": {},
     "output_type": "execute_result"
    }
   ],
   "source": [
    "df.shape"
   ]
  },
  {
   "cell_type": "markdown",
   "metadata": {},
   "source": [
    "## Change Data Types [If Any]"
   ]
  },
  {
   "cell_type": "code",
   "execution_count": 9,
   "metadata": {},
   "outputs": [],
   "source": [
    "df['POSTAL_CODE'] = df['POSTAL_CODE'].astype(str)"
   ]
  },
  {
   "cell_type": "code",
   "execution_count": 10,
   "metadata": {},
   "outputs": [],
   "source": [
    "df['ORDER_DATE'] = pd.to_datetime(df['ORDER_DATE'], format=\"%d/%m/%Y\")"
   ]
  },
  {
   "cell_type": "code",
   "execution_count": 11,
   "metadata": {},
   "outputs": [],
   "source": [
    "df['SHIP_DATE'] = pd.to_datetime(df['SHIP_DATE'], format=\"%d/%m/%Y\")"
   ]
  },
  {
   "cell_type": "code",
   "execution_count": 12,
   "metadata": {},
   "outputs": [
    {
     "name": "stdout",
     "output_type": "stream",
     "text": [
      "<class 'pandas.core.frame.DataFrame'>\n",
      "Index: 983892 entries, 0 to 327890\n",
      "Data columns (total 38 columns):\n",
      " #   Column                               Non-Null Count   Dtype         \n",
      "---  ------                               --------------   -----         \n",
      " 0   RETAIL_ID                            983892 non-null  int64         \n",
      " 1   ORDER_ID                             983892 non-null  int64         \n",
      " 2   ORDER_KEYS                           983892 non-null  int64         \n",
      " 3   ORDER_DATE                           983892 non-null  datetime64[ns]\n",
      " 4   ORDER_MONTH_NAME                     983892 non-null  object        \n",
      " 5   ORDER_YEAR                           983892 non-null  int64         \n",
      " 6   SHIP_MODE                            983892 non-null  object        \n",
      " 7   SHIP_DATE                            983892 non-null  datetime64[ns]\n",
      " 8   SHIP_MONTH_NAME                      983892 non-null  object        \n",
      " 9   SHIP_YEAR                            983892 non-null  int64         \n",
      " 10  CUSTOMER_ID                          983892 non-null  int64         \n",
      " 11  FIRST_NAME                           983892 non-null  object        \n",
      " 12  LAST_NAME                            983892 non-null  object        \n",
      " 13  FULL_NAME                            983892 non-null  object        \n",
      " 14  POSTAL_ID                            983892 non-null  int64         \n",
      " 15  POSTAL_CODE                          983892 non-null  object        \n",
      " 16  CITY                                 983892 non-null  object        \n",
      " 17  STATE                                983892 non-null  object        \n",
      " 18  REGION                               983892 non-null  object        \n",
      " 19  COUNTRY                              983892 non-null  object        \n",
      " 20  PRODUCT_ID                           983892 non-null  int64         \n",
      " 21  CATEGORY                             983892 non-null  object        \n",
      " 22  SUB_CATEGORY                         983892 non-null  object        \n",
      " 23  PRODUCT_NAME                         983892 non-null  object        \n",
      " 24  BRAND_NAME                           983892 non-null  object        \n",
      " 25  PRODUCT_PRICE_ID                     983892 non-null  int64         \n",
      " 26  PRODUCT_UNIT_PRICE                   983892 non-null  float64       \n",
      " 27  PRODUCT_COST_PRICE                   983892 non-null  float64       \n",
      " 28  PRODUCT_DISCOUNT_PERCENTAGE          983892 non-null  float64       \n",
      " 29  PRODUCT_DISCOUNT_AMOUNT              983892 non-null  float64       \n",
      " 30  PRODUCT_DISCOUNTED_UNIT_PRICE        983892 non-null  float64       \n",
      " 31  QUANTITY                             983892 non-null  int64         \n",
      " 32  TOTAL_DISCOUNT_AMOUNT                983892 non-null  float64       \n",
      " 33  TOTAL_UNIT_AMOUNT                    983892 non-null  float64       \n",
      " 34  GROSS_PROFIT_UNIT_AMOUNT             983892 non-null  float64       \n",
      " 35  TOTAL_DISCOUNTED_UNIT_AMOUNT         983892 non-null  float64       \n",
      " 36  GROSS_PROFIT_DISCOUNTED_UNIT_AMOUNT  983892 non-null  float64       \n",
      " 37  IS_DISCOUNTED                        983892 non-null  int64         \n",
      "dtypes: datetime64[ns](2), float64(10), int64(11), object(15)\n",
      "memory usage: 292.8+ MB\n"
     ]
    }
   ],
   "source": [
    "df.info()"
   ]
  },
  {
   "cell_type": "code",
   "execution_count": 13,
   "metadata": {},
   "outputs": [
    {
     "data": {
      "text/html": [
       "<div>\n",
       "<style scoped>\n",
       "    .dataframe tbody tr th:only-of-type {\n",
       "        vertical-align: middle;\n",
       "    }\n",
       "\n",
       "    .dataframe tbody tr th {\n",
       "        vertical-align: top;\n",
       "    }\n",
       "\n",
       "    .dataframe thead th {\n",
       "        text-align: right;\n",
       "    }\n",
       "</style>\n",
       "<table border=\"1\" class=\"dataframe\">\n",
       "  <thead>\n",
       "    <tr style=\"text-align: right;\">\n",
       "      <th></th>\n",
       "      <th>RETAIL_ID</th>\n",
       "      <th>ORDER_ID</th>\n",
       "      <th>ORDER_KEYS</th>\n",
       "      <th>ORDER_DATE</th>\n",
       "      <th>ORDER_MONTH_NAME</th>\n",
       "      <th>ORDER_YEAR</th>\n",
       "      <th>SHIP_MODE</th>\n",
       "      <th>SHIP_DATE</th>\n",
       "      <th>SHIP_MONTH_NAME</th>\n",
       "      <th>SHIP_YEAR</th>\n",
       "      <th>...</th>\n",
       "      <th>PRODUCT_DISCOUNT_PERCENTAGE</th>\n",
       "      <th>PRODUCT_DISCOUNT_AMOUNT</th>\n",
       "      <th>PRODUCT_DISCOUNTED_UNIT_PRICE</th>\n",
       "      <th>QUANTITY</th>\n",
       "      <th>TOTAL_DISCOUNT_AMOUNT</th>\n",
       "      <th>TOTAL_UNIT_AMOUNT</th>\n",
       "      <th>GROSS_PROFIT_UNIT_AMOUNT</th>\n",
       "      <th>TOTAL_DISCOUNTED_UNIT_AMOUNT</th>\n",
       "      <th>GROSS_PROFIT_DISCOUNTED_UNIT_AMOUNT</th>\n",
       "      <th>IS_DISCOUNTED</th>\n",
       "    </tr>\n",
       "  </thead>\n",
       "  <tbody>\n",
       "    <tr>\n",
       "      <th>0</th>\n",
       "      <td>1</td>\n",
       "      <td>1</td>\n",
       "      <td>1</td>\n",
       "      <td>2010-01-01</td>\n",
       "      <td>January</td>\n",
       "      <td>2010</td>\n",
       "      <td>Standard Class</td>\n",
       "      <td>2010-01-08</td>\n",
       "      <td>January</td>\n",
       "      <td>2010</td>\n",
       "      <td>...</td>\n",
       "      <td>0.02</td>\n",
       "      <td>0.1180</td>\n",
       "      <td>5.7820</td>\n",
       "      <td>8</td>\n",
       "      <td>0.9440</td>\n",
       "      <td>47.20</td>\n",
       "      <td>20.24</td>\n",
       "      <td>46.2560</td>\n",
       "      <td>19.2960</td>\n",
       "      <td>1</td>\n",
       "    </tr>\n",
       "    <tr>\n",
       "      <th>1</th>\n",
       "      <td>2</td>\n",
       "      <td>2</td>\n",
       "      <td>2</td>\n",
       "      <td>2010-01-01</td>\n",
       "      <td>January</td>\n",
       "      <td>2010</td>\n",
       "      <td>Second Class</td>\n",
       "      <td>2010-01-04</td>\n",
       "      <td>January</td>\n",
       "      <td>2010</td>\n",
       "      <td>...</td>\n",
       "      <td>0.02</td>\n",
       "      <td>0.0840</td>\n",
       "      <td>4.1160</td>\n",
       "      <td>7</td>\n",
       "      <td>0.5880</td>\n",
       "      <td>29.40</td>\n",
       "      <td>5.74</td>\n",
       "      <td>28.8120</td>\n",
       "      <td>5.1520</td>\n",
       "      <td>1</td>\n",
       "    </tr>\n",
       "    <tr>\n",
       "      <th>2</th>\n",
       "      <td>3</td>\n",
       "      <td>3</td>\n",
       "      <td>3</td>\n",
       "      <td>2010-01-01</td>\n",
       "      <td>January</td>\n",
       "      <td>2010</td>\n",
       "      <td>First Class</td>\n",
       "      <td>2010-01-02</td>\n",
       "      <td>January</td>\n",
       "      <td>2010</td>\n",
       "      <td>...</td>\n",
       "      <td>0.00</td>\n",
       "      <td>0.0000</td>\n",
       "      <td>166.9500</td>\n",
       "      <td>6</td>\n",
       "      <td>0.0000</td>\n",
       "      <td>1001.70</td>\n",
       "      <td>83.46</td>\n",
       "      <td>1001.7000</td>\n",
       "      <td>83.4600</td>\n",
       "      <td>0</td>\n",
       "    </tr>\n",
       "    <tr>\n",
       "      <th>3</th>\n",
       "      <td>4</td>\n",
       "      <td>4</td>\n",
       "      <td>4</td>\n",
       "      <td>2010-01-01</td>\n",
       "      <td>January</td>\n",
       "      <td>2010</td>\n",
       "      <td>First Class</td>\n",
       "      <td>2010-01-02</td>\n",
       "      <td>January</td>\n",
       "      <td>2010</td>\n",
       "      <td>...</td>\n",
       "      <td>0.02</td>\n",
       "      <td>9.9998</td>\n",
       "      <td>489.9902</td>\n",
       "      <td>9</td>\n",
       "      <td>89.9982</td>\n",
       "      <td>4499.91</td>\n",
       "      <td>1170.00</td>\n",
       "      <td>4409.9118</td>\n",
       "      <td>1080.0018</td>\n",
       "      <td>1</td>\n",
       "    </tr>\n",
       "    <tr>\n",
       "      <th>4</th>\n",
       "      <td>5</td>\n",
       "      <td>5</td>\n",
       "      <td>5</td>\n",
       "      <td>2010-01-01</td>\n",
       "      <td>January</td>\n",
       "      <td>2010</td>\n",
       "      <td>First Class</td>\n",
       "      <td>2010-01-02</td>\n",
       "      <td>January</td>\n",
       "      <td>2010</td>\n",
       "      <td>...</td>\n",
       "      <td>0.02</td>\n",
       "      <td>9.9998</td>\n",
       "      <td>489.9902</td>\n",
       "      <td>9</td>\n",
       "      <td>89.9982</td>\n",
       "      <td>4499.91</td>\n",
       "      <td>1170.00</td>\n",
       "      <td>4409.9118</td>\n",
       "      <td>1080.0018</td>\n",
       "      <td>1</td>\n",
       "    </tr>\n",
       "  </tbody>\n",
       "</table>\n",
       "<p>5 rows × 38 columns</p>\n",
       "</div>"
      ],
      "text/plain": [
       "   RETAIL_ID  ORDER_ID  ORDER_KEYS ORDER_DATE ORDER_MONTH_NAME  ORDER_YEAR  \\\n",
       "0          1         1           1 2010-01-01          January        2010   \n",
       "1          2         2           2 2010-01-01          January        2010   \n",
       "2          3         3           3 2010-01-01          January        2010   \n",
       "3          4         4           4 2010-01-01          January        2010   \n",
       "4          5         5           5 2010-01-01          January        2010   \n",
       "\n",
       "        SHIP_MODE  SHIP_DATE SHIP_MONTH_NAME  SHIP_YEAR  ...  \\\n",
       "0  Standard Class 2010-01-08         January       2010  ...   \n",
       "1    Second Class 2010-01-04         January       2010  ...   \n",
       "2     First Class 2010-01-02         January       2010  ...   \n",
       "3     First Class 2010-01-02         January       2010  ...   \n",
       "4     First Class 2010-01-02         January       2010  ...   \n",
       "\n",
       "   PRODUCT_DISCOUNT_PERCENTAGE PRODUCT_DISCOUNT_AMOUNT  \\\n",
       "0                         0.02                  0.1180   \n",
       "1                         0.02                  0.0840   \n",
       "2                         0.00                  0.0000   \n",
       "3                         0.02                  9.9998   \n",
       "4                         0.02                  9.9998   \n",
       "\n",
       "  PRODUCT_DISCOUNTED_UNIT_PRICE QUANTITY  TOTAL_DISCOUNT_AMOUNT  \\\n",
       "0                        5.7820        8                 0.9440   \n",
       "1                        4.1160        7                 0.5880   \n",
       "2                      166.9500        6                 0.0000   \n",
       "3                      489.9902        9                89.9982   \n",
       "4                      489.9902        9                89.9982   \n",
       "\n",
       "  TOTAL_UNIT_AMOUNT GROSS_PROFIT_UNIT_AMOUNT TOTAL_DISCOUNTED_UNIT_AMOUNT  \\\n",
       "0             47.20                    20.24                      46.2560   \n",
       "1             29.40                     5.74                      28.8120   \n",
       "2           1001.70                    83.46                    1001.7000   \n",
       "3           4499.91                  1170.00                    4409.9118   \n",
       "4           4499.91                  1170.00                    4409.9118   \n",
       "\n",
       "  GROSS_PROFIT_DISCOUNTED_UNIT_AMOUNT IS_DISCOUNTED  \n",
       "0                             19.2960             1  \n",
       "1                              5.1520             1  \n",
       "2                             83.4600             0  \n",
       "3                           1080.0018             1  \n",
       "4                           1080.0018             1  \n",
       "\n",
       "[5 rows x 38 columns]"
      ]
     },
     "execution_count": 13,
     "metadata": {},
     "output_type": "execute_result"
    }
   ],
   "source": [
    "df.head()"
   ]
  },
  {
   "cell_type": "markdown",
   "metadata": {},
   "source": [
    "# Checking to see if BRAND_NAME is 0"
   ]
  },
  {
   "cell_type": "code",
   "execution_count": 14,
   "metadata": {},
   "outputs": [
    {
     "data": {
      "text/plain": [
       "RETAIL_ID                              0\n",
       "ORDER_ID                               0\n",
       "ORDER_KEYS                             0\n",
       "ORDER_DATE                             0\n",
       "ORDER_MONTH_NAME                       0\n",
       "ORDER_YEAR                             0\n",
       "SHIP_MODE                              0\n",
       "SHIP_DATE                              0\n",
       "SHIP_MONTH_NAME                        0\n",
       "SHIP_YEAR                              0\n",
       "CUSTOMER_ID                            0\n",
       "FIRST_NAME                             0\n",
       "LAST_NAME                              0\n",
       "FULL_NAME                              0\n",
       "POSTAL_ID                              0\n",
       "POSTAL_CODE                            0\n",
       "CITY                                   0\n",
       "STATE                                  0\n",
       "REGION                                 0\n",
       "COUNTRY                                0\n",
       "PRODUCT_ID                             0\n",
       "CATEGORY                               0\n",
       "SUB_CATEGORY                           0\n",
       "PRODUCT_NAME                           0\n",
       "BRAND_NAME                             0\n",
       "PRODUCT_PRICE_ID                       0\n",
       "PRODUCT_UNIT_PRICE                     0\n",
       "PRODUCT_COST_PRICE                     0\n",
       "PRODUCT_DISCOUNT_PERCENTAGE            0\n",
       "PRODUCT_DISCOUNT_AMOUNT                0\n",
       "PRODUCT_DISCOUNTED_UNIT_PRICE          0\n",
       "QUANTITY                               0\n",
       "TOTAL_DISCOUNT_AMOUNT                  0\n",
       "TOTAL_UNIT_AMOUNT                      0\n",
       "GROSS_PROFIT_UNIT_AMOUNT               0\n",
       "TOTAL_DISCOUNTED_UNIT_AMOUNT           0\n",
       "GROSS_PROFIT_DISCOUNTED_UNIT_AMOUNT    0\n",
       "IS_DISCOUNTED                          0\n",
       "dtype: int64"
      ]
     },
     "execution_count": 14,
     "metadata": {},
     "output_type": "execute_result"
    }
   ],
   "source": [
    "# Checking for any Nulls in the Dataset.\n",
    "df.isnull().sum()"
   ]
  },
  {
   "cell_type": "markdown",
   "metadata": {},
   "source": [
    "# The Start of the Timeline Dashboard for Dash"
   ]
  },
  {
   "cell_type": "markdown",
   "metadata": {},
   "source": [
    "## What kind of variation timeline to make"
   ]
  },
  {
   "cell_type": "markdown",
   "metadata": {},
   "source": [
    "**Filters needed:**\n",
    "- By Year\n",
    "- By Discount or not\n",
    "- By Brand Name"
   ]
  },
  {
   "cell_type": "markdown",
   "metadata": {},
   "source": [
    "**Total Order Quantity Over Time:**\n",
    "- Plot the quantity of products sold per brand  **(QUANTITY)** over the timeline **(ORDER_DATE)**.\n",
    "\n",
    "**Total Gross Profit Over Time:**\n",
    "- Show the total gross profit per brand **(GROSS_PROFIT_UNIT_AMOUNT)** over the timeline **(ORDER_DATE)**.\n",
    "\n",
    "**Total Order Volume Over Time:**\n",
    "- Plot the volume of orders made per brand **COUNT(GROSS_PROFIT_UNIT_AMOUNT)** over the timeline **(ORDER_DATE)**."
   ]
  },
  {
   "cell_type": "markdown",
   "metadata": {},
   "source": [
    "# Graphs / Charts"
   ]
  },
  {
   "cell_type": "code",
   "execution_count": 15,
   "metadata": {},
   "outputs": [
    {
     "data": {
      "text/plain": [
       "Index(['RETAIL_ID', 'ORDER_ID', 'ORDER_KEYS', 'ORDER_DATE', 'ORDER_MONTH_NAME',\n",
       "       'ORDER_YEAR', 'SHIP_MODE', 'SHIP_DATE', 'SHIP_MONTH_NAME', 'SHIP_YEAR',\n",
       "       'CUSTOMER_ID', 'FIRST_NAME', 'LAST_NAME', 'FULL_NAME', 'POSTAL_ID',\n",
       "       'POSTAL_CODE', 'CITY', 'STATE', 'REGION', 'COUNTRY', 'PRODUCT_ID',\n",
       "       'CATEGORY', 'SUB_CATEGORY', 'PRODUCT_NAME', 'BRAND_NAME',\n",
       "       'PRODUCT_PRICE_ID', 'PRODUCT_UNIT_PRICE', 'PRODUCT_COST_PRICE',\n",
       "       'PRODUCT_DISCOUNT_PERCENTAGE', 'PRODUCT_DISCOUNT_AMOUNT',\n",
       "       'PRODUCT_DISCOUNTED_UNIT_PRICE', 'QUANTITY', 'TOTAL_DISCOUNT_AMOUNT',\n",
       "       'TOTAL_UNIT_AMOUNT', 'GROSS_PROFIT_UNIT_AMOUNT',\n",
       "       'TOTAL_DISCOUNTED_UNIT_AMOUNT', 'GROSS_PROFIT_DISCOUNTED_UNIT_AMOUNT',\n",
       "       'IS_DISCOUNTED'],\n",
       "      dtype='object')"
      ]
     },
     "execution_count": 15,
     "metadata": {},
     "output_type": "execute_result"
    }
   ],
   "source": [
    "df.columns"
   ]
  },
  {
   "cell_type": "markdown",
   "metadata": {},
   "source": [
    "## Total Order Quantity Over Time"
   ]
  },
  {
   "cell_type": "code",
   "execution_count": 58,
   "metadata": {},
   "outputs": [
    {
     "data": {
      "application/vnd.plotly.v1+json": {
       "config": {
        "plotlyServerURL": "https://plot.ly"
       },
       "data": [
        {
         "hovertemplate": "Month: <b>%{x}</b><br><b><span style='text-decoration: underline; color: red;'>Total Quantity Ordered per Month:</span> %{y:,.0f}</b>",
         "legendgroup": "",
         "line": {
          "color": "#636efa",
          "dash": "solid",
          "shape": "linear"
         },
         "marker": {
          "color": "White",
          "size": 10,
          "symbol": "circle"
         },
         "mode": "markers+lines",
         "name": "",
         "orientation": "v",
         "showlegend": false,
         "type": "scatter",
         "x": [
          "January",
          "February",
          "March",
          "April",
          "May",
          "June",
          "July",
          "August",
          "September",
          "October",
          "November",
          "December"
         ],
         "xaxis": "x",
         "y": [
          1006,
          662,
          1108,
          1037,
          1061,
          1132,
          1162,
          1072,
          1264,
          1122,
          959,
          1210
         ],
         "yaxis": "y"
        }
       ],
       "layout": {
        "font": {
         "color": "white",
         "family": "Roboto",
         "size": 14
        },
        "height": 1000,
        "hoverlabel": {
         "font": {
          "color": "Black",
          "family": "Roboto",
          "size": 16
         }
        },
        "legend": {
         "tracegroupgap": 0
        },
        "paper_bgcolor": "#222222",
        "plot_bgcolor": "#222222",
        "template": {
         "data": {
          "bar": [
           {
            "error_x": {
             "color": "#f2f5fa"
            },
            "error_y": {
             "color": "#f2f5fa"
            },
            "marker": {
             "line": {
              "color": "rgb(17,17,17)",
              "width": 0.5
             },
             "pattern": {
              "fillmode": "overlay",
              "size": 10,
              "solidity": 0.2
             }
            },
            "type": "bar"
           }
          ],
          "barpolar": [
           {
            "marker": {
             "line": {
              "color": "rgb(17,17,17)",
              "width": 0.5
             },
             "pattern": {
              "fillmode": "overlay",
              "size": 10,
              "solidity": 0.2
             }
            },
            "type": "barpolar"
           }
          ],
          "carpet": [
           {
            "aaxis": {
             "endlinecolor": "#A2B1C6",
             "gridcolor": "#506784",
             "linecolor": "#506784",
             "minorgridcolor": "#506784",
             "startlinecolor": "#A2B1C6"
            },
            "baxis": {
             "endlinecolor": "#A2B1C6",
             "gridcolor": "#506784",
             "linecolor": "#506784",
             "minorgridcolor": "#506784",
             "startlinecolor": "#A2B1C6"
            },
            "type": "carpet"
           }
          ],
          "choropleth": [
           {
            "colorbar": {
             "outlinewidth": 0,
             "ticks": ""
            },
            "type": "choropleth"
           }
          ],
          "contour": [
           {
            "colorbar": {
             "outlinewidth": 0,
             "ticks": ""
            },
            "colorscale": [
             [
              0,
              "#0d0887"
             ],
             [
              0.1111111111111111,
              "#46039f"
             ],
             [
              0.2222222222222222,
              "#7201a8"
             ],
             [
              0.3333333333333333,
              "#9c179e"
             ],
             [
              0.4444444444444444,
              "#bd3786"
             ],
             [
              0.5555555555555556,
              "#d8576b"
             ],
             [
              0.6666666666666666,
              "#ed7953"
             ],
             [
              0.7777777777777778,
              "#fb9f3a"
             ],
             [
              0.8888888888888888,
              "#fdca26"
             ],
             [
              1,
              "#f0f921"
             ]
            ],
            "type": "contour"
           }
          ],
          "contourcarpet": [
           {
            "colorbar": {
             "outlinewidth": 0,
             "ticks": ""
            },
            "type": "contourcarpet"
           }
          ],
          "heatmap": [
           {
            "colorbar": {
             "outlinewidth": 0,
             "ticks": ""
            },
            "colorscale": [
             [
              0,
              "#0d0887"
             ],
             [
              0.1111111111111111,
              "#46039f"
             ],
             [
              0.2222222222222222,
              "#7201a8"
             ],
             [
              0.3333333333333333,
              "#9c179e"
             ],
             [
              0.4444444444444444,
              "#bd3786"
             ],
             [
              0.5555555555555556,
              "#d8576b"
             ],
             [
              0.6666666666666666,
              "#ed7953"
             ],
             [
              0.7777777777777778,
              "#fb9f3a"
             ],
             [
              0.8888888888888888,
              "#fdca26"
             ],
             [
              1,
              "#f0f921"
             ]
            ],
            "type": "heatmap"
           }
          ],
          "heatmapgl": [
           {
            "colorbar": {
             "outlinewidth": 0,
             "ticks": ""
            },
            "colorscale": [
             [
              0,
              "#0d0887"
             ],
             [
              0.1111111111111111,
              "#46039f"
             ],
             [
              0.2222222222222222,
              "#7201a8"
             ],
             [
              0.3333333333333333,
              "#9c179e"
             ],
             [
              0.4444444444444444,
              "#bd3786"
             ],
             [
              0.5555555555555556,
              "#d8576b"
             ],
             [
              0.6666666666666666,
              "#ed7953"
             ],
             [
              0.7777777777777778,
              "#fb9f3a"
             ],
             [
              0.8888888888888888,
              "#fdca26"
             ],
             [
              1,
              "#f0f921"
             ]
            ],
            "type": "heatmapgl"
           }
          ],
          "histogram": [
           {
            "marker": {
             "pattern": {
              "fillmode": "overlay",
              "size": 10,
              "solidity": 0.2
             }
            },
            "type": "histogram"
           }
          ],
          "histogram2d": [
           {
            "colorbar": {
             "outlinewidth": 0,
             "ticks": ""
            },
            "colorscale": [
             [
              0,
              "#0d0887"
             ],
             [
              0.1111111111111111,
              "#46039f"
             ],
             [
              0.2222222222222222,
              "#7201a8"
             ],
             [
              0.3333333333333333,
              "#9c179e"
             ],
             [
              0.4444444444444444,
              "#bd3786"
             ],
             [
              0.5555555555555556,
              "#d8576b"
             ],
             [
              0.6666666666666666,
              "#ed7953"
             ],
             [
              0.7777777777777778,
              "#fb9f3a"
             ],
             [
              0.8888888888888888,
              "#fdca26"
             ],
             [
              1,
              "#f0f921"
             ]
            ],
            "type": "histogram2d"
           }
          ],
          "histogram2dcontour": [
           {
            "colorbar": {
             "outlinewidth": 0,
             "ticks": ""
            },
            "colorscale": [
             [
              0,
              "#0d0887"
             ],
             [
              0.1111111111111111,
              "#46039f"
             ],
             [
              0.2222222222222222,
              "#7201a8"
             ],
             [
              0.3333333333333333,
              "#9c179e"
             ],
             [
              0.4444444444444444,
              "#bd3786"
             ],
             [
              0.5555555555555556,
              "#d8576b"
             ],
             [
              0.6666666666666666,
              "#ed7953"
             ],
             [
              0.7777777777777778,
              "#fb9f3a"
             ],
             [
              0.8888888888888888,
              "#fdca26"
             ],
             [
              1,
              "#f0f921"
             ]
            ],
            "type": "histogram2dcontour"
           }
          ],
          "mesh3d": [
           {
            "colorbar": {
             "outlinewidth": 0,
             "ticks": ""
            },
            "type": "mesh3d"
           }
          ],
          "parcoords": [
           {
            "line": {
             "colorbar": {
              "outlinewidth": 0,
              "ticks": ""
             }
            },
            "type": "parcoords"
           }
          ],
          "pie": [
           {
            "automargin": true,
            "type": "pie"
           }
          ],
          "scatter": [
           {
            "marker": {
             "line": {
              "color": "#283442"
             }
            },
            "type": "scatter"
           }
          ],
          "scatter3d": [
           {
            "line": {
             "colorbar": {
              "outlinewidth": 0,
              "ticks": ""
             }
            },
            "marker": {
             "colorbar": {
              "outlinewidth": 0,
              "ticks": ""
             }
            },
            "type": "scatter3d"
           }
          ],
          "scattercarpet": [
           {
            "marker": {
             "colorbar": {
              "outlinewidth": 0,
              "ticks": ""
             }
            },
            "type": "scattercarpet"
           }
          ],
          "scattergeo": [
           {
            "marker": {
             "colorbar": {
              "outlinewidth": 0,
              "ticks": ""
             }
            },
            "type": "scattergeo"
           }
          ],
          "scattergl": [
           {
            "marker": {
             "line": {
              "color": "#283442"
             }
            },
            "type": "scattergl"
           }
          ],
          "scattermapbox": [
           {
            "marker": {
             "colorbar": {
              "outlinewidth": 0,
              "ticks": ""
             }
            },
            "type": "scattermapbox"
           }
          ],
          "scatterpolar": [
           {
            "marker": {
             "colorbar": {
              "outlinewidth": 0,
              "ticks": ""
             }
            },
            "type": "scatterpolar"
           }
          ],
          "scatterpolargl": [
           {
            "marker": {
             "colorbar": {
              "outlinewidth": 0,
              "ticks": ""
             }
            },
            "type": "scatterpolargl"
           }
          ],
          "scatterternary": [
           {
            "marker": {
             "colorbar": {
              "outlinewidth": 0,
              "ticks": ""
             }
            },
            "type": "scatterternary"
           }
          ],
          "surface": [
           {
            "colorbar": {
             "outlinewidth": 0,
             "ticks": ""
            },
            "colorscale": [
             [
              0,
              "#0d0887"
             ],
             [
              0.1111111111111111,
              "#46039f"
             ],
             [
              0.2222222222222222,
              "#7201a8"
             ],
             [
              0.3333333333333333,
              "#9c179e"
             ],
             [
              0.4444444444444444,
              "#bd3786"
             ],
             [
              0.5555555555555556,
              "#d8576b"
             ],
             [
              0.6666666666666666,
              "#ed7953"
             ],
             [
              0.7777777777777778,
              "#fb9f3a"
             ],
             [
              0.8888888888888888,
              "#fdca26"
             ],
             [
              1,
              "#f0f921"
             ]
            ],
            "type": "surface"
           }
          ],
          "table": [
           {
            "cells": {
             "fill": {
              "color": "#506784"
             },
             "line": {
              "color": "rgb(17,17,17)"
             }
            },
            "header": {
             "fill": {
              "color": "#2a3f5f"
             },
             "line": {
              "color": "rgb(17,17,17)"
             }
            },
            "type": "table"
           }
          ]
         },
         "layout": {
          "annotationdefaults": {
           "arrowcolor": "#f2f5fa",
           "arrowhead": 0,
           "arrowwidth": 1
          },
          "autotypenumbers": "strict",
          "coloraxis": {
           "colorbar": {
            "outlinewidth": 0,
            "ticks": ""
           }
          },
          "colorscale": {
           "diverging": [
            [
             0,
             "#8e0152"
            ],
            [
             0.1,
             "#c51b7d"
            ],
            [
             0.2,
             "#de77ae"
            ],
            [
             0.3,
             "#f1b6da"
            ],
            [
             0.4,
             "#fde0ef"
            ],
            [
             0.5,
             "#f7f7f7"
            ],
            [
             0.6,
             "#e6f5d0"
            ],
            [
             0.7,
             "#b8e186"
            ],
            [
             0.8,
             "#7fbc41"
            ],
            [
             0.9,
             "#4d9221"
            ],
            [
             1,
             "#276419"
            ]
           ],
           "sequential": [
            [
             0,
             "#0d0887"
            ],
            [
             0.1111111111111111,
             "#46039f"
            ],
            [
             0.2222222222222222,
             "#7201a8"
            ],
            [
             0.3333333333333333,
             "#9c179e"
            ],
            [
             0.4444444444444444,
             "#bd3786"
            ],
            [
             0.5555555555555556,
             "#d8576b"
            ],
            [
             0.6666666666666666,
             "#ed7953"
            ],
            [
             0.7777777777777778,
             "#fb9f3a"
            ],
            [
             0.8888888888888888,
             "#fdca26"
            ],
            [
             1,
             "#f0f921"
            ]
           ],
           "sequentialminus": [
            [
             0,
             "#0d0887"
            ],
            [
             0.1111111111111111,
             "#46039f"
            ],
            [
             0.2222222222222222,
             "#7201a8"
            ],
            [
             0.3333333333333333,
             "#9c179e"
            ],
            [
             0.4444444444444444,
             "#bd3786"
            ],
            [
             0.5555555555555556,
             "#d8576b"
            ],
            [
             0.6666666666666666,
             "#ed7953"
            ],
            [
             0.7777777777777778,
             "#fb9f3a"
            ],
            [
             0.8888888888888888,
             "#fdca26"
            ],
            [
             1,
             "#f0f921"
            ]
           ]
          },
          "colorway": [
           "#636efa",
           "#EF553B",
           "#00cc96",
           "#ab63fa",
           "#FFA15A",
           "#19d3f3",
           "#FF6692",
           "#B6E880",
           "#FF97FF",
           "#FECB52"
          ],
          "font": {
           "color": "#f2f5fa"
          },
          "geo": {
           "bgcolor": "rgb(17,17,17)",
           "lakecolor": "rgb(17,17,17)",
           "landcolor": "rgb(17,17,17)",
           "showlakes": true,
           "showland": true,
           "subunitcolor": "#506784"
          },
          "hoverlabel": {
           "align": "left"
          },
          "hovermode": "closest",
          "mapbox": {
           "style": "dark"
          },
          "paper_bgcolor": "rgb(17,17,17)",
          "plot_bgcolor": "rgb(17,17,17)",
          "polar": {
           "angularaxis": {
            "gridcolor": "#506784",
            "linecolor": "#506784",
            "ticks": ""
           },
           "bgcolor": "rgb(17,17,17)",
           "radialaxis": {
            "gridcolor": "#506784",
            "linecolor": "#506784",
            "ticks": ""
           }
          },
          "scene": {
           "xaxis": {
            "backgroundcolor": "rgb(17,17,17)",
            "gridcolor": "#506784",
            "gridwidth": 2,
            "linecolor": "#506784",
            "showbackground": true,
            "ticks": "",
            "zerolinecolor": "#C8D4E3"
           },
           "yaxis": {
            "backgroundcolor": "rgb(17,17,17)",
            "gridcolor": "#506784",
            "gridwidth": 2,
            "linecolor": "#506784",
            "showbackground": true,
            "ticks": "",
            "zerolinecolor": "#C8D4E3"
           },
           "zaxis": {
            "backgroundcolor": "rgb(17,17,17)",
            "gridcolor": "#506784",
            "gridwidth": 2,
            "linecolor": "#506784",
            "showbackground": true,
            "ticks": "",
            "zerolinecolor": "#C8D4E3"
           }
          },
          "shapedefaults": {
           "line": {
            "color": "#f2f5fa"
           }
          },
          "sliderdefaults": {
           "bgcolor": "#C8D4E3",
           "bordercolor": "rgb(17,17,17)",
           "borderwidth": 1,
           "tickwidth": 0
          },
          "ternary": {
           "aaxis": {
            "gridcolor": "#506784",
            "linecolor": "#506784",
            "ticks": ""
           },
           "baxis": {
            "gridcolor": "#506784",
            "linecolor": "#506784",
            "ticks": ""
           },
           "bgcolor": "rgb(17,17,17)",
           "caxis": {
            "gridcolor": "#506784",
            "linecolor": "#506784",
            "ticks": ""
           }
          },
          "title": {
           "x": 0.05
          },
          "updatemenudefaults": {
           "bgcolor": "#506784",
           "borderwidth": 0
          },
          "xaxis": {
           "automargin": true,
           "gridcolor": "#283442",
           "linecolor": "#506784",
           "ticks": "",
           "title": {
            "standoff": 15
           },
           "zerolinecolor": "#283442",
           "zerolinewidth": 2
          },
          "yaxis": {
           "automargin": true,
           "gridcolor": "#283442",
           "linecolor": "#506784",
           "ticks": "",
           "title": {
            "standoff": 15
           },
           "zerolinecolor": "#283442",
           "zerolinewidth": 2
          }
         }
        },
        "title": {
         "text": "Total Order Quantity Over Time - Year: 2010, Brand: Acco",
         "x": 0.45
        },
        "width": 900,
        "xaxis": {
         "anchor": "y",
         "domain": [
          0,
          1
         ],
         "tickangle": -35,
         "title": {
          "text": "Month"
         }
        },
        "yaxis": {
         "anchor": "x",
         "domain": [
          0,
          1
         ],
         "title": {
          "text": "Total Order Quantity"
         }
        }
       }
      }
     },
     "metadata": {},
     "output_type": "display_data"
    }
   ],
   "source": [
    "# Define the order of months\n",
    "month_order = ['January', 'February', 'March', 'April', 'May', 'June', 'July', 'August', 'September', 'October', 'November', 'December']\n",
    "\n",
    "# Filter data for a specific year, brand, and discounted status\n",
    "filtered_df = df[(df['ORDER_YEAR'] == 2010) & (df['BRAND_NAME'] == 'Acco') & (df['IS_DISCOUNTED'] == True)]\n",
    "\n",
    "# Extract dynamic Year and Brand_name\n",
    "year_value = filtered_df['ORDER_YEAR'].iloc[0]\n",
    "brand_name_value = filtered_df['BRAND_NAME'].iloc[0]\n",
    "\n",
    "# Group by 'ORDER_MONTH_NAME' and sum the 'QUANTITY'\n",
    "grouped_df = filtered_df.groupby('ORDER_MONTH_NAME')['QUANTITY'].sum().reset_index()\n",
    "\n",
    "# Convert 'ORDER_MONTH_NAME' to categorical with the defined order\n",
    "grouped_df['ORDER_MONTH_NAME'] = pd.Categorical(grouped_df['ORDER_MONTH_NAME'], categories=month_order, ordered=True)\n",
    "\n",
    "# Sort the DataFrame based on the categorical order\n",
    "grouped_df = grouped_df.sort_values('ORDER_MONTH_NAME')\n",
    "\n",
    "# Create a Line chart using Plotly\n",
    "fig = px.line(grouped_df, x='ORDER_MONTH_NAME', y='QUANTITY',\n",
    "              title=f'Total Order Quantity Over Time - Year: {year_value}, Brand: {brand_name_value}',\n",
    "              labels={'ORDER_MONTH_NAME': 'Month', 'QUANTITY': 'Total Order Quantity'},\n",
    "              height=1000, width=900,\n",
    "              line_shape='linear', render_mode='auto'\n",
    "              )\n",
    "\n",
    "# Add dots on each line for each month\n",
    "fig.update_traces(mode='markers+lines', marker=dict(size=10))\n",
    "\n",
    "# Customize layout\n",
    "fig.update_layout(\n",
    "    font=dict(family='Roboto', size=14, color='white'),\n",
    "    plot_bgcolor='#222222',\n",
    "    paper_bgcolor='#222222',\n",
    "    template=\"plotly_dark\",\n",
    "    title_x=0.45,\n",
    "    xaxis_tickangle=-35,\n",
    "    hoverlabel=dict(font=dict(family='Roboto', size=16, color='Black')),\n",
    ")\n",
    "\n",
    "# Update traces to customize hover template\n",
    "fig.update_traces(\n",
    "    hovertemplate=f\"<br>\".join([\n",
    "        # f\"Year: {year_value}\",\n",
    "        # f\"Brand: {brand_name_value}\",\n",
    "        \"Month: <b>%{x}</b>\",\n",
    "        \"<b><span style='text-decoration: underline; color: red;'>Total Quantity Ordered per Month:</span> %{y:,.0f}</b>\",\n",
    "    ]),\n",
    ")\n",
    "\n",
    "# Set the font color to black for the total transaction amount\n",
    "fig.update_traces(marker=dict(color='White'))\n",
    "\n",
    "# Show the plot\n",
    "fig.show()"
   ]
  },
  {
   "cell_type": "markdown",
   "metadata": {},
   "source": [
    "## Total Gross Profit Over Time"
   ]
  },
  {
   "cell_type": "code",
   "execution_count": 62,
   "metadata": {},
   "outputs": [
    {
     "data": {
      "application/vnd.plotly.v1+json": {
       "config": {
        "plotlyServerURL": "https://plot.ly"
       },
       "data": [
        {
         "hovertemplate": "Month: <b>%{x}</b><br><b><span style='text-decoration: underline; color: red;'>Total Gross Profit per Month:</span> $%{y:,.0f}</b>",
         "legendgroup": "",
         "line": {
          "color": "#636efa",
          "dash": "solid",
          "shape": "linear"
         },
         "marker": {
          "color": "White",
          "size": 10,
          "symbol": "circle"
         },
         "mode": "markers+lines",
         "name": "",
         "orientation": "v",
         "showlegend": false,
         "type": "scatter",
         "x": [
          "January",
          "February",
          "March",
          "April",
          "May",
          "June",
          "July",
          "August",
          "September",
          "October",
          "November",
          "December"
         ],
         "xaxis": "x",
         "y": [
          671.0211,
          747.3556,
          672.2286,
          906.4628,
          900.9778,
          503.3509,
          670.0028,
          1407.3309,
          1096.4344,
          733.1484,
          898.0301,
          1310.5979
         ],
         "yaxis": "y"
        }
       ],
       "layout": {
        "font": {
         "color": "white",
         "family": "Roboto",
         "size": 14
        },
        "height": 1000,
        "hoverlabel": {
         "font": {
          "color": "Black",
          "family": "Roboto",
          "size": 16
         }
        },
        "legend": {
         "tracegroupgap": 0
        },
        "paper_bgcolor": "#222222",
        "plot_bgcolor": "#222222",
        "template": {
         "data": {
          "bar": [
           {
            "error_x": {
             "color": "#f2f5fa"
            },
            "error_y": {
             "color": "#f2f5fa"
            },
            "marker": {
             "line": {
              "color": "rgb(17,17,17)",
              "width": 0.5
             },
             "pattern": {
              "fillmode": "overlay",
              "size": 10,
              "solidity": 0.2
             }
            },
            "type": "bar"
           }
          ],
          "barpolar": [
           {
            "marker": {
             "line": {
              "color": "rgb(17,17,17)",
              "width": 0.5
             },
             "pattern": {
              "fillmode": "overlay",
              "size": 10,
              "solidity": 0.2
             }
            },
            "type": "barpolar"
           }
          ],
          "carpet": [
           {
            "aaxis": {
             "endlinecolor": "#A2B1C6",
             "gridcolor": "#506784",
             "linecolor": "#506784",
             "minorgridcolor": "#506784",
             "startlinecolor": "#A2B1C6"
            },
            "baxis": {
             "endlinecolor": "#A2B1C6",
             "gridcolor": "#506784",
             "linecolor": "#506784",
             "minorgridcolor": "#506784",
             "startlinecolor": "#A2B1C6"
            },
            "type": "carpet"
           }
          ],
          "choropleth": [
           {
            "colorbar": {
             "outlinewidth": 0,
             "ticks": ""
            },
            "type": "choropleth"
           }
          ],
          "contour": [
           {
            "colorbar": {
             "outlinewidth": 0,
             "ticks": ""
            },
            "colorscale": [
             [
              0,
              "#0d0887"
             ],
             [
              0.1111111111111111,
              "#46039f"
             ],
             [
              0.2222222222222222,
              "#7201a8"
             ],
             [
              0.3333333333333333,
              "#9c179e"
             ],
             [
              0.4444444444444444,
              "#bd3786"
             ],
             [
              0.5555555555555556,
              "#d8576b"
             ],
             [
              0.6666666666666666,
              "#ed7953"
             ],
             [
              0.7777777777777778,
              "#fb9f3a"
             ],
             [
              0.8888888888888888,
              "#fdca26"
             ],
             [
              1,
              "#f0f921"
             ]
            ],
            "type": "contour"
           }
          ],
          "contourcarpet": [
           {
            "colorbar": {
             "outlinewidth": 0,
             "ticks": ""
            },
            "type": "contourcarpet"
           }
          ],
          "heatmap": [
           {
            "colorbar": {
             "outlinewidth": 0,
             "ticks": ""
            },
            "colorscale": [
             [
              0,
              "#0d0887"
             ],
             [
              0.1111111111111111,
              "#46039f"
             ],
             [
              0.2222222222222222,
              "#7201a8"
             ],
             [
              0.3333333333333333,
              "#9c179e"
             ],
             [
              0.4444444444444444,
              "#bd3786"
             ],
             [
              0.5555555555555556,
              "#d8576b"
             ],
             [
              0.6666666666666666,
              "#ed7953"
             ],
             [
              0.7777777777777778,
              "#fb9f3a"
             ],
             [
              0.8888888888888888,
              "#fdca26"
             ],
             [
              1,
              "#f0f921"
             ]
            ],
            "type": "heatmap"
           }
          ],
          "heatmapgl": [
           {
            "colorbar": {
             "outlinewidth": 0,
             "ticks": ""
            },
            "colorscale": [
             [
              0,
              "#0d0887"
             ],
             [
              0.1111111111111111,
              "#46039f"
             ],
             [
              0.2222222222222222,
              "#7201a8"
             ],
             [
              0.3333333333333333,
              "#9c179e"
             ],
             [
              0.4444444444444444,
              "#bd3786"
             ],
             [
              0.5555555555555556,
              "#d8576b"
             ],
             [
              0.6666666666666666,
              "#ed7953"
             ],
             [
              0.7777777777777778,
              "#fb9f3a"
             ],
             [
              0.8888888888888888,
              "#fdca26"
             ],
             [
              1,
              "#f0f921"
             ]
            ],
            "type": "heatmapgl"
           }
          ],
          "histogram": [
           {
            "marker": {
             "pattern": {
              "fillmode": "overlay",
              "size": 10,
              "solidity": 0.2
             }
            },
            "type": "histogram"
           }
          ],
          "histogram2d": [
           {
            "colorbar": {
             "outlinewidth": 0,
             "ticks": ""
            },
            "colorscale": [
             [
              0,
              "#0d0887"
             ],
             [
              0.1111111111111111,
              "#46039f"
             ],
             [
              0.2222222222222222,
              "#7201a8"
             ],
             [
              0.3333333333333333,
              "#9c179e"
             ],
             [
              0.4444444444444444,
              "#bd3786"
             ],
             [
              0.5555555555555556,
              "#d8576b"
             ],
             [
              0.6666666666666666,
              "#ed7953"
             ],
             [
              0.7777777777777778,
              "#fb9f3a"
             ],
             [
              0.8888888888888888,
              "#fdca26"
             ],
             [
              1,
              "#f0f921"
             ]
            ],
            "type": "histogram2d"
           }
          ],
          "histogram2dcontour": [
           {
            "colorbar": {
             "outlinewidth": 0,
             "ticks": ""
            },
            "colorscale": [
             [
              0,
              "#0d0887"
             ],
             [
              0.1111111111111111,
              "#46039f"
             ],
             [
              0.2222222222222222,
              "#7201a8"
             ],
             [
              0.3333333333333333,
              "#9c179e"
             ],
             [
              0.4444444444444444,
              "#bd3786"
             ],
             [
              0.5555555555555556,
              "#d8576b"
             ],
             [
              0.6666666666666666,
              "#ed7953"
             ],
             [
              0.7777777777777778,
              "#fb9f3a"
             ],
             [
              0.8888888888888888,
              "#fdca26"
             ],
             [
              1,
              "#f0f921"
             ]
            ],
            "type": "histogram2dcontour"
           }
          ],
          "mesh3d": [
           {
            "colorbar": {
             "outlinewidth": 0,
             "ticks": ""
            },
            "type": "mesh3d"
           }
          ],
          "parcoords": [
           {
            "line": {
             "colorbar": {
              "outlinewidth": 0,
              "ticks": ""
             }
            },
            "type": "parcoords"
           }
          ],
          "pie": [
           {
            "automargin": true,
            "type": "pie"
           }
          ],
          "scatter": [
           {
            "marker": {
             "line": {
              "color": "#283442"
             }
            },
            "type": "scatter"
           }
          ],
          "scatter3d": [
           {
            "line": {
             "colorbar": {
              "outlinewidth": 0,
              "ticks": ""
             }
            },
            "marker": {
             "colorbar": {
              "outlinewidth": 0,
              "ticks": ""
             }
            },
            "type": "scatter3d"
           }
          ],
          "scattercarpet": [
           {
            "marker": {
             "colorbar": {
              "outlinewidth": 0,
              "ticks": ""
             }
            },
            "type": "scattercarpet"
           }
          ],
          "scattergeo": [
           {
            "marker": {
             "colorbar": {
              "outlinewidth": 0,
              "ticks": ""
             }
            },
            "type": "scattergeo"
           }
          ],
          "scattergl": [
           {
            "marker": {
             "line": {
              "color": "#283442"
             }
            },
            "type": "scattergl"
           }
          ],
          "scattermapbox": [
           {
            "marker": {
             "colorbar": {
              "outlinewidth": 0,
              "ticks": ""
             }
            },
            "type": "scattermapbox"
           }
          ],
          "scatterpolar": [
           {
            "marker": {
             "colorbar": {
              "outlinewidth": 0,
              "ticks": ""
             }
            },
            "type": "scatterpolar"
           }
          ],
          "scatterpolargl": [
           {
            "marker": {
             "colorbar": {
              "outlinewidth": 0,
              "ticks": ""
             }
            },
            "type": "scatterpolargl"
           }
          ],
          "scatterternary": [
           {
            "marker": {
             "colorbar": {
              "outlinewidth": 0,
              "ticks": ""
             }
            },
            "type": "scatterternary"
           }
          ],
          "surface": [
           {
            "colorbar": {
             "outlinewidth": 0,
             "ticks": ""
            },
            "colorscale": [
             [
              0,
              "#0d0887"
             ],
             [
              0.1111111111111111,
              "#46039f"
             ],
             [
              0.2222222222222222,
              "#7201a8"
             ],
             [
              0.3333333333333333,
              "#9c179e"
             ],
             [
              0.4444444444444444,
              "#bd3786"
             ],
             [
              0.5555555555555556,
              "#d8576b"
             ],
             [
              0.6666666666666666,
              "#ed7953"
             ],
             [
              0.7777777777777778,
              "#fb9f3a"
             ],
             [
              0.8888888888888888,
              "#fdca26"
             ],
             [
              1,
              "#f0f921"
             ]
            ],
            "type": "surface"
           }
          ],
          "table": [
           {
            "cells": {
             "fill": {
              "color": "#506784"
             },
             "line": {
              "color": "rgb(17,17,17)"
             }
            },
            "header": {
             "fill": {
              "color": "#2a3f5f"
             },
             "line": {
              "color": "rgb(17,17,17)"
             }
            },
            "type": "table"
           }
          ]
         },
         "layout": {
          "annotationdefaults": {
           "arrowcolor": "#f2f5fa",
           "arrowhead": 0,
           "arrowwidth": 1
          },
          "autotypenumbers": "strict",
          "coloraxis": {
           "colorbar": {
            "outlinewidth": 0,
            "ticks": ""
           }
          },
          "colorscale": {
           "diverging": [
            [
             0,
             "#8e0152"
            ],
            [
             0.1,
             "#c51b7d"
            ],
            [
             0.2,
             "#de77ae"
            ],
            [
             0.3,
             "#f1b6da"
            ],
            [
             0.4,
             "#fde0ef"
            ],
            [
             0.5,
             "#f7f7f7"
            ],
            [
             0.6,
             "#e6f5d0"
            ],
            [
             0.7,
             "#b8e186"
            ],
            [
             0.8,
             "#7fbc41"
            ],
            [
             0.9,
             "#4d9221"
            ],
            [
             1,
             "#276419"
            ]
           ],
           "sequential": [
            [
             0,
             "#0d0887"
            ],
            [
             0.1111111111111111,
             "#46039f"
            ],
            [
             0.2222222222222222,
             "#7201a8"
            ],
            [
             0.3333333333333333,
             "#9c179e"
            ],
            [
             0.4444444444444444,
             "#bd3786"
            ],
            [
             0.5555555555555556,
             "#d8576b"
            ],
            [
             0.6666666666666666,
             "#ed7953"
            ],
            [
             0.7777777777777778,
             "#fb9f3a"
            ],
            [
             0.8888888888888888,
             "#fdca26"
            ],
            [
             1,
             "#f0f921"
            ]
           ],
           "sequentialminus": [
            [
             0,
             "#0d0887"
            ],
            [
             0.1111111111111111,
             "#46039f"
            ],
            [
             0.2222222222222222,
             "#7201a8"
            ],
            [
             0.3333333333333333,
             "#9c179e"
            ],
            [
             0.4444444444444444,
             "#bd3786"
            ],
            [
             0.5555555555555556,
             "#d8576b"
            ],
            [
             0.6666666666666666,
             "#ed7953"
            ],
            [
             0.7777777777777778,
             "#fb9f3a"
            ],
            [
             0.8888888888888888,
             "#fdca26"
            ],
            [
             1,
             "#f0f921"
            ]
           ]
          },
          "colorway": [
           "#636efa",
           "#EF553B",
           "#00cc96",
           "#ab63fa",
           "#FFA15A",
           "#19d3f3",
           "#FF6692",
           "#B6E880",
           "#FF97FF",
           "#FECB52"
          ],
          "font": {
           "color": "#f2f5fa"
          },
          "geo": {
           "bgcolor": "rgb(17,17,17)",
           "lakecolor": "rgb(17,17,17)",
           "landcolor": "rgb(17,17,17)",
           "showlakes": true,
           "showland": true,
           "subunitcolor": "#506784"
          },
          "hoverlabel": {
           "align": "left"
          },
          "hovermode": "closest",
          "mapbox": {
           "style": "dark"
          },
          "paper_bgcolor": "rgb(17,17,17)",
          "plot_bgcolor": "rgb(17,17,17)",
          "polar": {
           "angularaxis": {
            "gridcolor": "#506784",
            "linecolor": "#506784",
            "ticks": ""
           },
           "bgcolor": "rgb(17,17,17)",
           "radialaxis": {
            "gridcolor": "#506784",
            "linecolor": "#506784",
            "ticks": ""
           }
          },
          "scene": {
           "xaxis": {
            "backgroundcolor": "rgb(17,17,17)",
            "gridcolor": "#506784",
            "gridwidth": 2,
            "linecolor": "#506784",
            "showbackground": true,
            "ticks": "",
            "zerolinecolor": "#C8D4E3"
           },
           "yaxis": {
            "backgroundcolor": "rgb(17,17,17)",
            "gridcolor": "#506784",
            "gridwidth": 2,
            "linecolor": "#506784",
            "showbackground": true,
            "ticks": "",
            "zerolinecolor": "#C8D4E3"
           },
           "zaxis": {
            "backgroundcolor": "rgb(17,17,17)",
            "gridcolor": "#506784",
            "gridwidth": 2,
            "linecolor": "#506784",
            "showbackground": true,
            "ticks": "",
            "zerolinecolor": "#C8D4E3"
           }
          },
          "shapedefaults": {
           "line": {
            "color": "#f2f5fa"
           }
          },
          "sliderdefaults": {
           "bgcolor": "#C8D4E3",
           "bordercolor": "rgb(17,17,17)",
           "borderwidth": 1,
           "tickwidth": 0
          },
          "ternary": {
           "aaxis": {
            "gridcolor": "#506784",
            "linecolor": "#506784",
            "ticks": ""
           },
           "baxis": {
            "gridcolor": "#506784",
            "linecolor": "#506784",
            "ticks": ""
           },
           "bgcolor": "rgb(17,17,17)",
           "caxis": {
            "gridcolor": "#506784",
            "linecolor": "#506784",
            "ticks": ""
           }
          },
          "title": {
           "x": 0.05
          },
          "updatemenudefaults": {
           "bgcolor": "#506784",
           "borderwidth": 0
          },
          "xaxis": {
           "automargin": true,
           "gridcolor": "#283442",
           "linecolor": "#506784",
           "ticks": "",
           "title": {
            "standoff": 15
           },
           "zerolinecolor": "#283442",
           "zerolinewidth": 2
          },
          "yaxis": {
           "automargin": true,
           "gridcolor": "#283442",
           "linecolor": "#506784",
           "ticks": "",
           "title": {
            "standoff": 15
           },
           "zerolinecolor": "#283442",
           "zerolinewidth": 2
          }
         }
        },
        "title": {
         "text": "Total Gross Profit Over Time - Year: 2010, Brand: Acme",
         "x": 0.45
        },
        "width": 900,
        "xaxis": {
         "anchor": "y",
         "domain": [
          0,
          1
         ],
         "tickangle": -35,
         "title": {
          "text": "Month"
         }
        },
        "yaxis": {
         "anchor": "x",
         "domain": [
          0,
          1
         ],
         "title": {
          "text": "Total Gross Profit"
         }
        }
       }
      }
     },
     "metadata": {},
     "output_type": "display_data"
    }
   ],
   "source": [
    "# Define the order of months\n",
    "month_order = ['January', 'February', 'March', 'April', 'May', 'June', 'July', 'August', 'September', 'October', 'November', 'December']\n",
    "\n",
    "# Filter data for a specific year, brand, and discounted status\n",
    "filtered_df = df[(df['ORDER_YEAR'] == 2010) & (df['BRAND_NAME'] == 'Acme') & (df['IS_DISCOUNTED'] == True)]\n",
    "\n",
    "# Extract dynamic Year and Brand_name\n",
    "year_value = filtered_df['ORDER_YEAR'].iloc[0]\n",
    "brand_name_value = filtered_df['BRAND_NAME'].iloc[0]\n",
    "\n",
    "# Group by 'ORDER_MONTH_NAME' and sum the 'GROSS_PROFIT_DISCOUNTED_UNIT_AMOUNT'\n",
    "grouped_df = filtered_df.groupby('ORDER_MONTH_NAME')['GROSS_PROFIT_DISCOUNTED_UNIT_AMOUNT'].sum().reset_index()\n",
    "\n",
    "# Convert 'ORDER_MONTH_NAME' to categorical with the defined order\n",
    "grouped_df['ORDER_MONTH_NAME'] = pd.Categorical(grouped_df['ORDER_MONTH_NAME'], categories=month_order, ordered=True)\n",
    "\n",
    "# Sort the DataFrame based on the categorical order\n",
    "grouped_df = grouped_df.sort_values('ORDER_MONTH_NAME')\n",
    "\n",
    "# Create a Line chart using Plotly\n",
    "fig = px.line(grouped_df, x='ORDER_MONTH_NAME', y='GROSS_PROFIT_DISCOUNTED_UNIT_AMOUNT',\n",
    "              title=f'Total Gross Profit Over Time - Year: {year_value}, Brand: {brand_name_value}',\n",
    "              labels={'ORDER_MONTH_NAME': 'Month', 'GROSS_PROFIT_DISCOUNTED_UNIT_AMOUNT': 'Total Gross Profit'},\n",
    "              height=1000, width=900,\n",
    "              line_shape='linear', render_mode='auto'\n",
    "              )\n",
    "\n",
    "# Add dots on each line for each month\n",
    "fig.update_traces(mode='markers+lines', marker=dict(size=10))\n",
    "\n",
    "# Customize layout\n",
    "fig.update_layout(\n",
    "    font=dict(family='Roboto', size=14, color='white'),\n",
    "    plot_bgcolor='#222222',\n",
    "    paper_bgcolor='#222222',\n",
    "    template=\"plotly_dark\",\n",
    "    title_x=0.45,\n",
    "    xaxis_tickangle=-35,\n",
    "    hoverlabel=dict(font=dict(family='Roboto', size=16, color='Black')),\n",
    ")\n",
    "\n",
    "# Update traces to customize hover template\n",
    "fig.update_traces(\n",
    "    hovertemplate=f\"<br>\".join([\n",
    "        # f\"Year: {year_value}\",\n",
    "        # f\"Brand: {brand_name_value}\",\n",
    "        \"Month: <b>%{x}</b>\",\n",
    "        \"<b><span style='text-decoration: underline; color: red;'>Total Gross Profit per Month:</span> $%{y:,.0f}</b>\",\n",
    "    ]),\n",
    ")\n",
    "\n",
    "# Set the font color to black for the total transaction amount\n",
    "fig.update_traces(marker=dict(color='White'))\n",
    "\n",
    "# Show the plot\n",
    "fig.show()"
   ]
  },
  {
   "cell_type": "markdown",
   "metadata": {},
   "source": [
    "## Total Order Volume Over Time"
   ]
  },
  {
   "cell_type": "code",
   "execution_count": 64,
   "metadata": {},
   "outputs": [
    {
     "data": {
      "application/vnd.plotly.v1+json": {
       "config": {
        "plotlyServerURL": "https://plot.ly"
       },
       "data": [
        {
         "hovertemplate": "Month: <b>%{x}</b><br><b><span style='text-decoration: underline; color: red;'>Volume of Orders per Month:</span> %{y:,.0f}</b>",
         "legendgroup": "",
         "line": {
          "color": "#636efa",
          "dash": "solid",
          "shape": "linear"
         },
         "marker": {
          "color": "White",
          "size": 10,
          "symbol": "circle"
         },
         "mode": "markers+lines",
         "name": "",
         "orientation": "v",
         "showlegend": false,
         "type": "scatter",
         "x": [
          "January",
          "February",
          "March",
          "April",
          "May",
          "June",
          "July",
          "August",
          "September",
          "October",
          "November",
          "December"
         ],
         "xaxis": "x",
         "y": [
          90,
          79,
          83,
          95,
          117,
          79,
          109,
          131,
          113,
          93,
          104,
          142
         ],
         "yaxis": "y"
        }
       ],
       "layout": {
        "font": {
         "color": "white",
         "family": "Roboto",
         "size": 14
        },
        "height": 1000,
        "hoverlabel": {
         "font": {
          "color": "Black",
          "family": "Roboto",
          "size": 16
         }
        },
        "legend": {
         "tracegroupgap": 0
        },
        "paper_bgcolor": "#222222",
        "plot_bgcolor": "#222222",
        "template": {
         "data": {
          "bar": [
           {
            "error_x": {
             "color": "#f2f5fa"
            },
            "error_y": {
             "color": "#f2f5fa"
            },
            "marker": {
             "line": {
              "color": "rgb(17,17,17)",
              "width": 0.5
             },
             "pattern": {
              "fillmode": "overlay",
              "size": 10,
              "solidity": 0.2
             }
            },
            "type": "bar"
           }
          ],
          "barpolar": [
           {
            "marker": {
             "line": {
              "color": "rgb(17,17,17)",
              "width": 0.5
             },
             "pattern": {
              "fillmode": "overlay",
              "size": 10,
              "solidity": 0.2
             }
            },
            "type": "barpolar"
           }
          ],
          "carpet": [
           {
            "aaxis": {
             "endlinecolor": "#A2B1C6",
             "gridcolor": "#506784",
             "linecolor": "#506784",
             "minorgridcolor": "#506784",
             "startlinecolor": "#A2B1C6"
            },
            "baxis": {
             "endlinecolor": "#A2B1C6",
             "gridcolor": "#506784",
             "linecolor": "#506784",
             "minorgridcolor": "#506784",
             "startlinecolor": "#A2B1C6"
            },
            "type": "carpet"
           }
          ],
          "choropleth": [
           {
            "colorbar": {
             "outlinewidth": 0,
             "ticks": ""
            },
            "type": "choropleth"
           }
          ],
          "contour": [
           {
            "colorbar": {
             "outlinewidth": 0,
             "ticks": ""
            },
            "colorscale": [
             [
              0,
              "#0d0887"
             ],
             [
              0.1111111111111111,
              "#46039f"
             ],
             [
              0.2222222222222222,
              "#7201a8"
             ],
             [
              0.3333333333333333,
              "#9c179e"
             ],
             [
              0.4444444444444444,
              "#bd3786"
             ],
             [
              0.5555555555555556,
              "#d8576b"
             ],
             [
              0.6666666666666666,
              "#ed7953"
             ],
             [
              0.7777777777777778,
              "#fb9f3a"
             ],
             [
              0.8888888888888888,
              "#fdca26"
             ],
             [
              1,
              "#f0f921"
             ]
            ],
            "type": "contour"
           }
          ],
          "contourcarpet": [
           {
            "colorbar": {
             "outlinewidth": 0,
             "ticks": ""
            },
            "type": "contourcarpet"
           }
          ],
          "heatmap": [
           {
            "colorbar": {
             "outlinewidth": 0,
             "ticks": ""
            },
            "colorscale": [
             [
              0,
              "#0d0887"
             ],
             [
              0.1111111111111111,
              "#46039f"
             ],
             [
              0.2222222222222222,
              "#7201a8"
             ],
             [
              0.3333333333333333,
              "#9c179e"
             ],
             [
              0.4444444444444444,
              "#bd3786"
             ],
             [
              0.5555555555555556,
              "#d8576b"
             ],
             [
              0.6666666666666666,
              "#ed7953"
             ],
             [
              0.7777777777777778,
              "#fb9f3a"
             ],
             [
              0.8888888888888888,
              "#fdca26"
             ],
             [
              1,
              "#f0f921"
             ]
            ],
            "type": "heatmap"
           }
          ],
          "heatmapgl": [
           {
            "colorbar": {
             "outlinewidth": 0,
             "ticks": ""
            },
            "colorscale": [
             [
              0,
              "#0d0887"
             ],
             [
              0.1111111111111111,
              "#46039f"
             ],
             [
              0.2222222222222222,
              "#7201a8"
             ],
             [
              0.3333333333333333,
              "#9c179e"
             ],
             [
              0.4444444444444444,
              "#bd3786"
             ],
             [
              0.5555555555555556,
              "#d8576b"
             ],
             [
              0.6666666666666666,
              "#ed7953"
             ],
             [
              0.7777777777777778,
              "#fb9f3a"
             ],
             [
              0.8888888888888888,
              "#fdca26"
             ],
             [
              1,
              "#f0f921"
             ]
            ],
            "type": "heatmapgl"
           }
          ],
          "histogram": [
           {
            "marker": {
             "pattern": {
              "fillmode": "overlay",
              "size": 10,
              "solidity": 0.2
             }
            },
            "type": "histogram"
           }
          ],
          "histogram2d": [
           {
            "colorbar": {
             "outlinewidth": 0,
             "ticks": ""
            },
            "colorscale": [
             [
              0,
              "#0d0887"
             ],
             [
              0.1111111111111111,
              "#46039f"
             ],
             [
              0.2222222222222222,
              "#7201a8"
             ],
             [
              0.3333333333333333,
              "#9c179e"
             ],
             [
              0.4444444444444444,
              "#bd3786"
             ],
             [
              0.5555555555555556,
              "#d8576b"
             ],
             [
              0.6666666666666666,
              "#ed7953"
             ],
             [
              0.7777777777777778,
              "#fb9f3a"
             ],
             [
              0.8888888888888888,
              "#fdca26"
             ],
             [
              1,
              "#f0f921"
             ]
            ],
            "type": "histogram2d"
           }
          ],
          "histogram2dcontour": [
           {
            "colorbar": {
             "outlinewidth": 0,
             "ticks": ""
            },
            "colorscale": [
             [
              0,
              "#0d0887"
             ],
             [
              0.1111111111111111,
              "#46039f"
             ],
             [
              0.2222222222222222,
              "#7201a8"
             ],
             [
              0.3333333333333333,
              "#9c179e"
             ],
             [
              0.4444444444444444,
              "#bd3786"
             ],
             [
              0.5555555555555556,
              "#d8576b"
             ],
             [
              0.6666666666666666,
              "#ed7953"
             ],
             [
              0.7777777777777778,
              "#fb9f3a"
             ],
             [
              0.8888888888888888,
              "#fdca26"
             ],
             [
              1,
              "#f0f921"
             ]
            ],
            "type": "histogram2dcontour"
           }
          ],
          "mesh3d": [
           {
            "colorbar": {
             "outlinewidth": 0,
             "ticks": ""
            },
            "type": "mesh3d"
           }
          ],
          "parcoords": [
           {
            "line": {
             "colorbar": {
              "outlinewidth": 0,
              "ticks": ""
             }
            },
            "type": "parcoords"
           }
          ],
          "pie": [
           {
            "automargin": true,
            "type": "pie"
           }
          ],
          "scatter": [
           {
            "marker": {
             "line": {
              "color": "#283442"
             }
            },
            "type": "scatter"
           }
          ],
          "scatter3d": [
           {
            "line": {
             "colorbar": {
              "outlinewidth": 0,
              "ticks": ""
             }
            },
            "marker": {
             "colorbar": {
              "outlinewidth": 0,
              "ticks": ""
             }
            },
            "type": "scatter3d"
           }
          ],
          "scattercarpet": [
           {
            "marker": {
             "colorbar": {
              "outlinewidth": 0,
              "ticks": ""
             }
            },
            "type": "scattercarpet"
           }
          ],
          "scattergeo": [
           {
            "marker": {
             "colorbar": {
              "outlinewidth": 0,
              "ticks": ""
             }
            },
            "type": "scattergeo"
           }
          ],
          "scattergl": [
           {
            "marker": {
             "line": {
              "color": "#283442"
             }
            },
            "type": "scattergl"
           }
          ],
          "scattermapbox": [
           {
            "marker": {
             "colorbar": {
              "outlinewidth": 0,
              "ticks": ""
             }
            },
            "type": "scattermapbox"
           }
          ],
          "scatterpolar": [
           {
            "marker": {
             "colorbar": {
              "outlinewidth": 0,
              "ticks": ""
             }
            },
            "type": "scatterpolar"
           }
          ],
          "scatterpolargl": [
           {
            "marker": {
             "colorbar": {
              "outlinewidth": 0,
              "ticks": ""
             }
            },
            "type": "scatterpolargl"
           }
          ],
          "scatterternary": [
           {
            "marker": {
             "colorbar": {
              "outlinewidth": 0,
              "ticks": ""
             }
            },
            "type": "scatterternary"
           }
          ],
          "surface": [
           {
            "colorbar": {
             "outlinewidth": 0,
             "ticks": ""
            },
            "colorscale": [
             [
              0,
              "#0d0887"
             ],
             [
              0.1111111111111111,
              "#46039f"
             ],
             [
              0.2222222222222222,
              "#7201a8"
             ],
             [
              0.3333333333333333,
              "#9c179e"
             ],
             [
              0.4444444444444444,
              "#bd3786"
             ],
             [
              0.5555555555555556,
              "#d8576b"
             ],
             [
              0.6666666666666666,
              "#ed7953"
             ],
             [
              0.7777777777777778,
              "#fb9f3a"
             ],
             [
              0.8888888888888888,
              "#fdca26"
             ],
             [
              1,
              "#f0f921"
             ]
            ],
            "type": "surface"
           }
          ],
          "table": [
           {
            "cells": {
             "fill": {
              "color": "#506784"
             },
             "line": {
              "color": "rgb(17,17,17)"
             }
            },
            "header": {
             "fill": {
              "color": "#2a3f5f"
             },
             "line": {
              "color": "rgb(17,17,17)"
             }
            },
            "type": "table"
           }
          ]
         },
         "layout": {
          "annotationdefaults": {
           "arrowcolor": "#f2f5fa",
           "arrowhead": 0,
           "arrowwidth": 1
          },
          "autotypenumbers": "strict",
          "coloraxis": {
           "colorbar": {
            "outlinewidth": 0,
            "ticks": ""
           }
          },
          "colorscale": {
           "diverging": [
            [
             0,
             "#8e0152"
            ],
            [
             0.1,
             "#c51b7d"
            ],
            [
             0.2,
             "#de77ae"
            ],
            [
             0.3,
             "#f1b6da"
            ],
            [
             0.4,
             "#fde0ef"
            ],
            [
             0.5,
             "#f7f7f7"
            ],
            [
             0.6,
             "#e6f5d0"
            ],
            [
             0.7,
             "#b8e186"
            ],
            [
             0.8,
             "#7fbc41"
            ],
            [
             0.9,
             "#4d9221"
            ],
            [
             1,
             "#276419"
            ]
           ],
           "sequential": [
            [
             0,
             "#0d0887"
            ],
            [
             0.1111111111111111,
             "#46039f"
            ],
            [
             0.2222222222222222,
             "#7201a8"
            ],
            [
             0.3333333333333333,
             "#9c179e"
            ],
            [
             0.4444444444444444,
             "#bd3786"
            ],
            [
             0.5555555555555556,
             "#d8576b"
            ],
            [
             0.6666666666666666,
             "#ed7953"
            ],
            [
             0.7777777777777778,
             "#fb9f3a"
            ],
            [
             0.8888888888888888,
             "#fdca26"
            ],
            [
             1,
             "#f0f921"
            ]
           ],
           "sequentialminus": [
            [
             0,
             "#0d0887"
            ],
            [
             0.1111111111111111,
             "#46039f"
            ],
            [
             0.2222222222222222,
             "#7201a8"
            ],
            [
             0.3333333333333333,
             "#9c179e"
            ],
            [
             0.4444444444444444,
             "#bd3786"
            ],
            [
             0.5555555555555556,
             "#d8576b"
            ],
            [
             0.6666666666666666,
             "#ed7953"
            ],
            [
             0.7777777777777778,
             "#fb9f3a"
            ],
            [
             0.8888888888888888,
             "#fdca26"
            ],
            [
             1,
             "#f0f921"
            ]
           ]
          },
          "colorway": [
           "#636efa",
           "#EF553B",
           "#00cc96",
           "#ab63fa",
           "#FFA15A",
           "#19d3f3",
           "#FF6692",
           "#B6E880",
           "#FF97FF",
           "#FECB52"
          ],
          "font": {
           "color": "#f2f5fa"
          },
          "geo": {
           "bgcolor": "rgb(17,17,17)",
           "lakecolor": "rgb(17,17,17)",
           "landcolor": "rgb(17,17,17)",
           "showlakes": true,
           "showland": true,
           "subunitcolor": "#506784"
          },
          "hoverlabel": {
           "align": "left"
          },
          "hovermode": "closest",
          "mapbox": {
           "style": "dark"
          },
          "paper_bgcolor": "rgb(17,17,17)",
          "plot_bgcolor": "rgb(17,17,17)",
          "polar": {
           "angularaxis": {
            "gridcolor": "#506784",
            "linecolor": "#506784",
            "ticks": ""
           },
           "bgcolor": "rgb(17,17,17)",
           "radialaxis": {
            "gridcolor": "#506784",
            "linecolor": "#506784",
            "ticks": ""
           }
          },
          "scene": {
           "xaxis": {
            "backgroundcolor": "rgb(17,17,17)",
            "gridcolor": "#506784",
            "gridwidth": 2,
            "linecolor": "#506784",
            "showbackground": true,
            "ticks": "",
            "zerolinecolor": "#C8D4E3"
           },
           "yaxis": {
            "backgroundcolor": "rgb(17,17,17)",
            "gridcolor": "#506784",
            "gridwidth": 2,
            "linecolor": "#506784",
            "showbackground": true,
            "ticks": "",
            "zerolinecolor": "#C8D4E3"
           },
           "zaxis": {
            "backgroundcolor": "rgb(17,17,17)",
            "gridcolor": "#506784",
            "gridwidth": 2,
            "linecolor": "#506784",
            "showbackground": true,
            "ticks": "",
            "zerolinecolor": "#C8D4E3"
           }
          },
          "shapedefaults": {
           "line": {
            "color": "#f2f5fa"
           }
          },
          "sliderdefaults": {
           "bgcolor": "#C8D4E3",
           "bordercolor": "rgb(17,17,17)",
           "borderwidth": 1,
           "tickwidth": 0
          },
          "ternary": {
           "aaxis": {
            "gridcolor": "#506784",
            "linecolor": "#506784",
            "ticks": ""
           },
           "baxis": {
            "gridcolor": "#506784",
            "linecolor": "#506784",
            "ticks": ""
           },
           "bgcolor": "rgb(17,17,17)",
           "caxis": {
            "gridcolor": "#506784",
            "linecolor": "#506784",
            "ticks": ""
           }
          },
          "title": {
           "x": 0.05
          },
          "updatemenudefaults": {
           "bgcolor": "#506784",
           "borderwidth": 0
          },
          "xaxis": {
           "automargin": true,
           "gridcolor": "#283442",
           "linecolor": "#506784",
           "ticks": "",
           "title": {
            "standoff": 15
           },
           "zerolinecolor": "#283442",
           "zerolinewidth": 2
          },
          "yaxis": {
           "automargin": true,
           "gridcolor": "#283442",
           "linecolor": "#506784",
           "ticks": "",
           "title": {
            "standoff": 15
           },
           "zerolinecolor": "#283442",
           "zerolinewidth": 2
          }
         }
        },
        "title": {
         "text": "Total Volume of Orders Over Time - Year: 2010, Brand: Acme",
         "x": 0.45
        },
        "width": 900,
        "xaxis": {
         "anchor": "y",
         "domain": [
          0,
          1
         ],
         "tickangle": -35,
         "title": {
          "text": "Month"
         }
        },
        "yaxis": {
         "anchor": "x",
         "domain": [
          0,
          1
         ],
         "title": {
          "text": "Volume of Orders"
         }
        }
       }
      }
     },
     "metadata": {},
     "output_type": "display_data"
    }
   ],
   "source": [
    "# Define the order of months\n",
    "month_order = ['January', 'February', 'March', 'April', 'May', 'June', 'July', 'August', 'September', 'October', 'November', 'December']\n",
    "\n",
    "# Filter data for a specific year, brand, and discounted status\n",
    "filtered_df = df[(df['ORDER_YEAR'] == 2010) & (df['BRAND_NAME'] == 'Acme') & (df['IS_DISCOUNTED'] == True)]\n",
    "\n",
    "# Extract dynamic Year and Brand_name\n",
    "year_value = filtered_df['ORDER_YEAR'].iloc[0]\n",
    "brand_name_value = filtered_df['BRAND_NAME'].iloc[0]\n",
    "\n",
    "# Group by 'ORDER_MONTH_NAME' and get the count of orders\n",
    "grouped_df = filtered_df.groupby('ORDER_MONTH_NAME')['ORDER_DATE'].count().reset_index()\n",
    "\n",
    "# Convert 'ORDER_MONTH_NAME' to categorical with the defined order\n",
    "grouped_df['ORDER_MONTH_NAME'] = pd.Categorical(grouped_df['ORDER_MONTH_NAME'], categories=month_order, ordered=True)\n",
    "\n",
    "# Sort the DataFrame based on the categorical order\n",
    "grouped_df = grouped_df.sort_values('ORDER_MONTH_NAME')\n",
    "\n",
    "# Create a Line chart using Plotly\n",
    "fig = px.line(grouped_df, x='ORDER_MONTH_NAME', y='ORDER_DATE',\n",
    "              title=f'Total Volume of Orders Over Time - Year: {year_value}, Brand: {brand_name_value}',\n",
    "              labels={'ORDER_MONTH_NAME': 'Month', 'ORDER_DATE': 'Volume of Orders'},\n",
    "              height=1000, width=900,\n",
    "              line_shape='linear', render_mode='auto'\n",
    "              )\n",
    "\n",
    "# Add dots on each line for each month\n",
    "fig.update_traces(mode='markers+lines', marker=dict(size=10))\n",
    "\n",
    "# Customize layout\n",
    "fig.update_layout(\n",
    "    font=dict(family='Roboto', size=14, color='white'),\n",
    "    plot_bgcolor='#222222',\n",
    "    paper_bgcolor='#222222',\n",
    "    template=\"plotly_dark\",\n",
    "    title_x=0.45,\n",
    "    xaxis_tickangle=-35,\n",
    "    hoverlabel=dict(font=dict(family='Roboto', size=16, color='Black')),\n",
    ")\n",
    "\n",
    "# Update traces to customize hover template\n",
    "fig.update_traces(\n",
    "    hovertemplate=f\"<br>\".join([\n",
    "        # f\"Year: {year_value}\",\n",
    "        # f\"Brand: {brand_name_value}\",\n",
    "        \"Month: <b>%{x}</b>\",\n",
    "        \"<b><span style='text-decoration: underline; color: red;'>Volume of Orders per Month:</span> %{y:,.0f}</b>\",\n",
    "    ]),\n",
    ")\n",
    "\n",
    "# Set the font color to black for the total transaction amount\n",
    "fig.update_traces(marker=dict(color='White'))\n",
    "\n",
    "# Show the plot\n",
    "fig.show()"
   ]
  }
 ],
 "metadata": {
  "kernelspec": {
   "display_name": "base",
   "language": "python",
   "name": "python3"
  },
  "language_info": {
   "codemirror_mode": {
    "name": "ipython",
    "version": 3
   },
   "file_extension": ".py",
   "mimetype": "text/x-python",
   "name": "python",
   "nbconvert_exporter": "python",
   "pygments_lexer": "ipython3",
   "version": "3.11.4"
  }
 },
 "nbformat": 4,
 "nbformat_minor": 2
}
